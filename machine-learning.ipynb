{
 "cells": [
  {
   "cell_type": "code",
   "execution_count": 1,
   "metadata": {
    "collapsed": true
   },
   "outputs": [],
   "source": [
    "import json \n",
    "import pyspark as ps\n",
    "import numpy as np"
   ]
  },
  {
   "cell_type": "code",
   "execution_count": 2,
   "metadata": {
    "collapsed": false
   },
   "outputs": [
    {
     "name": "stdout",
     "output_type": "stream",
     "text": [
      "-1\r\n",
      "-1\r\n",
      "-1\r\n",
      "-1\r\n",
      "-1\r\n",
      "-1\r\n",
      "-1\r\n",
      "-1\r\n",
      "-1\r\n",
      "-1\r\n"
     ]
    }
   ],
   "source": [
    "!head data/churn/upsell.data"
   ]
  },
  {
   "cell_type": "code",
   "execution_count": 3,
   "metadata": {
    "collapsed": false
   },
   "outputs": [
    {
     "name": "stdout",
     "output_type": "stream",
     "text": [
      "Var1\tVar2\tVar3\tVar4\tVar5\tVar6\tVar7\tVar8\tVar9\tVar10\tVar11\tVar12\tVar13\tVar14\tVar15\tVar16\tVar17\tVar18\tVar19\tVar20\tVar21\tVar22\tVar23\tVar24\tVar25\tVar26\tVar27\tVar28\tVar29\tVar30\tVar31\tVar32\tVar33\tVar34\tVar35\tVar36\tVar37\tVar38\tVar39\tVar40\tVar41\tVar42\tVar43\tVar44\tVar45\tVar46\tVar47\tVar48\tVar49\tVar50\tVar51\tVar52\tVar53\tVar54\tVar55\tVar56\tVar57\tVar58\tVar59\tVar60\tVar61\tVar62\tVar63\tVar64\tVar65\tVar66\tVar67\tVar68\tVar69\tVar70\tVar71\tVar72\tVar73\tVar74\tVar75\tVar76\tVar77\tVar78\tVar79\tVar80\tVar81\tVar82\tVar83\tVar84\tVar85\tVar86\tVar87\tVar88\tVar89\tVar90\tVar91\tVar92\tVar93\tVar94\tVar95\tVar96\tVar97\tVar98\tVar99\tVar100\tVar101\tVar102\tVar103\tVar104\tVar105\tVar106\tVar107\tVar108\tVar109\tVar110\tVar111\tVar112\tVar113\tVar114\tVar115\tVar116\tVar117\tVar118\tVar119\tVar120\tVar121\tVar122\tVar123\tVar124\tVar125\tVar126\tVar127\tVar128\tVar129\tVar130\tVar131\tVar132\tVar133\tVar134\tVar135\tVar136\tVar137\tVar138\tVar139\tVar140\tVar141\tVar142\tVar143\tVar144\tVar145\tVar146\tVar147\tVar148\tVar149\tVar150\tVar151\tVar152\tVar153\tVar154\tVar155\tVar156\tVar157\tVar158\tVar159\tVar160\tVar161\tVar162\tVar163\tVar164\tVar165\tVar166\tVar167\tVar168\tVar169\tVar170\tVar171\tVar172\tVar173\tVar174\tVar175\tVar176\tVar177\tVar178\tVar179\tVar180\tVar181\tVar182\tVar183\tVar184\tVar185\tVar186\tVar187\tVar188\tVar189\tVar190\tVar191\tVar192\tVar193\tVar194\tVar195\tVar196\tVar197\tVar198\tVar199\tVar200\tVar201\tVar202\tVar203\tVar204\tVar205\tVar206\tVar207\tVar208\tVar209\tVar210\tVar211\tVar212\tVar213\tVar214\tVar215\tVar216\tVar217\tVar218\tVar219\tVar220\tVar221\tVar222\tVar223\tVar224\tVar225\tVar226\tVar227\tVar228\tVar229\tVar230\r",
      "\r\n",
      "\t\t\t\t\t1526\t7\t\t\t\t\t\t184\t\t\t\t\t\t\t\t464\t580\t\t14\t128\t\t\t166.56\t\t\t\t\t\t\t0\t\t\t3570\t\t\t\t\t\t0\t\t\t\t\t\t\t\t\t\t\t\t\t4.076907\t\t\t\t\t\t\t\t9\t\t\t\t\t\t\t\t36\t35\t\t1350864\t\t0\t\t\t7333.11\t\t5\t\t12\t\t\t\t\t\t\t\t\t\t\t\t\t\t\t\t\t\t\t\t\t\t\t\t104\t\t\t168\t117625.6\t\t\t\t\t\t1175\t\t\t\t6\t\t720\t8\t\t\t\t\t\t0\t1212385\t69134\t\t\t\t\t\t185\t\t\t0\t9\t\t\t\t\t397579\t\t\t\t1812252\t\t\t\t\t\t\t142\t\t\t38418\t\t\t\t\t\t\t\t\t\t0\t\t\t\t\t\t\t\t0\t\t\t\t\t\t\t\t462\t\t\tbZkvyxLkBI\tRO12\t\ttaul\t1K8T\tlK27\tka_ns41\tnQUveAzAF7\t\t\tdXGu\t9_Y1\tFbIm\tVpdQ\thaYg\tme75fM6ugJ\tkIsH\t\tuKAI\tL84s\tXfqtO3UdzaXh_\t\t\t\tXTbPUYD\tsH5Z\tcJvF\tFzaX\t1YVfGrO\toslk\tfXVEsaq\tjySVZNlOJy\t\t\txb3V\tRAYp\tF2FyR07IdsN7I\t\t\r",
      "\r\n",
      "\t\t\t\t\t525\t0\t\t\t\t\t\t0\t\t\t\t\t\t\t\t168\t210\t\t2\t24\t\t\t353.52\t\t\t\t\t\t\t0\t\t\t4764966\t\t\t\t\t\t0\t\t\t\t\t\t\t\t\t\t\t\t\t5.408032\t\t\t\t\t\t\t\t9\t\t\t\t\t\t\t3\t26\t0\t\t2872928\t\t3\t\t\t151098.9\t\t25\t\t2\t\t\t\t\t\t\t\t\t58158\t\t\t\t\t\t\t\t\t\t\t\t\t\t\t40\t\t\t40\t-356411.6\t\t\t\t\t\t590\t\t\t\t72\t\t0\t\t\t\t\t\t\t8\t4136430\t357038\t\t\t\t\t\t0\t\t\t0\t9\t\t\t\t\t278334\t\t\t\t10439160\t\t\t\t\t\t\t32\t\t\t238572\t\t\t\t\t\t\t\t\t\t0\t\t\t\t\t\t\t\t0\t\t\t\t\t\t\t\t\t\t\tCEat0G8rTN\tRO12\t\ttaul\t1K8T\t2Ix5\tqEdASpP\ty2LIM01bE1\t\t\tlg1t\t9_Y1\tk13i\tsJzTlal\tzm5i\tme75fM6ugJ\tkIsH\t\tuKAI\tL84s\tNhsEn4L\t\t\t\tkZJyVg2\t\t\tFzaX\t0AJo2f2\toslk\t2Kb5FSF\tLM8l689qOp\t\t\tfKCe\tRAYp\tF2FyR07IdsN7I\t\t\r",
      "\r\n",
      "\t\t\t\t\t5236\t7\t\t\t\t\t\t904\t\t\t\t\t\t\t\t1212\t1515\t\t26\t816\t\t\t220.08\t\t\t\t\t\t\t0\t\t\t5883894\t\t\t\t\t\t0\t\t\t\t\t\t\t\t\t\t\t\t\t6.599658\t\t\t\t\t\t\t\t9\t\t\t\t\t\t\t\t130\t518\t\t1675776\t\t0\t\t\t16211.58\t\t40\t\t58\t\t\t\t\t\t\t\t\t\t\t\t\t\t\t\t\t\t\t\t\t\t\t\t312\t\t\t336\t405104\t\t\t\t\t\t3230\t\t\t\t114\t\t5967\t-28\t\t\t\t\t\t0\t3478905\t248932\t\t\t\t\t\t800\t\t\t0\t36\t\t\t\t\t320565\t\t\t\t9826360\t\t\t\t\t\t\t206\t\t\t434946\t\t\t\t\t\t\t\t\t\t0\t\t\t\t\t\t\t\t0\t\t\t\t\t\t\t\t\t\t\teOQt0GoOh3\tAERks4l\tSEuy\ttaul\t1K8T\tffXs\tNldASpP\ty4g9XoZ\tvynJTq9\tsmXZ\t4bTR\t9_Y1\tMGOA\tVpdQ\thaYg\tDHn_WUyBhW_whjA88g9bvA64_\tkIsH\t\tuKAI\tL84s\tUbxQ8lZ\t\tTTGHfSv\t\tpMWAe2U\tbHR7\tUYBR\tFzaX\tJFM1BiF\tAl6ZaUT\tNKv4yOc\tjySVZNlOJy\t\tkG3k\tQu4f\t02N6s8f\tib5G6X1eUxUn6\tam7c\t\r",
      "\r\n",
      "\t\t\t\t\t\t0\t\t\t\t\t\t0\t\t\t\t\t\t\t\t\t0\t\t\t0\t\t\t22.08\t\t\t\t\t\t\t0\t\t\t0\t\t\t\t\t\t0\t\t\t\t\t\t\t\t\t\t\t\t\t1.98825\t\t\t\t\t\t\t\t9\t\t\t\t\t\t\t\t12\t0\t\t0\t\t0\t\t\t\t\t0\t\t0\t\t\t\t\t\t\t\t\t\t\t\t\t\t\t\t\t\t\t\t\t\t\t\t\t\t\t0\t-275703.6\t\t\t\t\t\t\t\t\t\t0\t\t0\t-14\t\t\t\t\t\t0\t0\t0\t\t\t\t\t\t0\t\t\t0\t\t\t\t\t\t\t\t\t\t0\t\t\t\t\t\t\t0\t\t\t0\t\t\t\t\t\t\t\t\t\t0\t\t\t\t\t\t\t\t0\t\t\t\t\t\t\t\t\t\t\tjg69tYsGvO\tRO12\t\ttaul\t1K8T\tssAy\t_ybO0dd\t4hMlgkf58mhwh\t\t\tW8mQ\t9_Y1\tYULl\tVpdQ\t\tme75fM6ugJ\tkIsH\t\tuKAI\tMtgm\tNhsEn4L\t\t\t\tkq0dQfu\teKej\tUYBR\tFzaX\tL91KIiz\toslk\tCE7uk3u\tLM8l689qOp\t\t\tFSa2\tRAYp\tF2FyR07IdsN7I\t\t\r",
      "\r\n",
      "\t\t\t\t\t1029\t7\t\t\t\t\t\t3216\t\t\t\t\t\t\t\t64\t80\t\t4\t64\t\t\t200\t\t\t\t\t\t\t0\t\t\t0\t\t\t\t\t\t0\t\t\t\t\t\t\t\t\t\t\t\t\t4.552446\t\t\t\t\t\t\t\t18\t\t\t\t\t\t\t3\t82\t224\t\t784448\t\t0\t\t\t37423.5\t\t0\t\t0\t\t\t\t\t\t\t\t\t89754\t\t\t\t\t\t\t\t\t\t\t\t\t\t\t32\t\t\t56\t10714.84\t\t\t\t\t\t215\t\t\t\t0\t\t15111\t58\t\t\t\t\t\t0\t150650\t66046\t\t\t\t\t\t3255\t\t\t0\t9\t\t\t\t\t267162\t\t\t\t644836\t\t\t\t\t\t\t2\t\t\t0\t\t\t\t\t\t\t\t\t\t0\t\t\t\t\t\t\t\t0\t\t\t\t\t\t\t\t\t\t\tIXSgUHShse\tRO12\tSEuy\ttaul\t1K8T\tuNkU\tEKR938I\tThrHXVS\t0v21jmy\tsmXZ\txklU\t9_Y1\tRVjC\tsJzTlal\t6JmL\tme75fM6ugJ\tkIsH\t\tuKAI\tL84s\tXfqtO3UdzaXh_\t\tSJs3duv\t\t11p4mKe\tH3p7\tUYBR\tFzaX\tOrnLfvc\toslk\t1J2cvxe\tLM8l689qOp\t\tkG3k\tFSa2\tRAYp\tF2FyR07IdsN7I\tmj86\t\r",
      "\r\n",
      "\t\t\t\t\t658\t7\t\t\t\t\t\t3156\t\t\t\t\t\t\t\t224\t280\t\t2\t72\t\t\t200\t\t\t\t\t\t\t5\t\t\t0\t\t\t\t\t\t0\t\t\t\t\t\t\t\t\t\t\t\t\t0.1664174\t\t\t\t\t\t\t\t9\t\t\t\t\t\t\t\t126\t196\t\t209048\t\t0\t\t\t11370.72\t\t0\t\t10\t\t\t\t\t\t\t\t\t\t\t\t\t\t\t\t\t\t\t\t\t\t\t\t32\t\t\t64\t369814\t\t\t\t\t\t755\t\t\t\t0\t\t1935\t\t\t\t\t\t\t8\t641020\t43684\t\t\t\t\t\t355\t\t\t0\t9\t\t\t\t\t2639\t\t\t\t745620\t\t\t\t\t\t\t68\t\t\t61368\t\t\t\t\t\t\t\t\t\t0\t\t\t\t\t\t\t\t0\t\t\t\t\t\t\t\t\t\t\tm9SrEy7Rm6\t2Knk1KF\t\ttaul\t1K8T\tlK27\tfayYfhR\tetM739XNb0Rf0\t\t\tae6C\t9_Y1\tyrDU\tVpdQ\twMei\tDHn_WUyBhW_whjA88g9bvA64_\tkIsH\t\tuKAI\tL84s\t3vzwTT0wY25GE\t\t\t\tteAHwXo\tykzL\tUYBR\tFzaX\tKbkKEj0\tzCkv\tQqVuch3\tLM8l689qOp\t\t\tQcbd\t02N6s8f\tZy3gnGM\tam7c\t\r",
      "\r\n",
      "\t\t\t\t\t1680\t7\t\t\t\t\t\t2952\t\t\t\t\t\t\t\t308\t385\t\t4\t128\t\t\t176.56\t\t\t\t\t\t\t0\t\t\t13158\t\t\t\t\t\t0\t\t\t\t\t\t\t\t\t\t\t\t\t5.448622\t\t\t\t\t\t\t\t9\t\t\t\t\t\t\t\t114\t392\t\t1030800\t\t0\t\t\t31655.4\t\t5\t\t16\t\t\t\t\t\t\t\t\t\t\t\t\t\t\t\t\t\t\t\t\t\t\t\t88\t\t\t176\t-808528\t\t\t\t\t\t1080\t\t\t\t24\t\t13194\t-24\t\t\t\t\t\t0\t1664450\t104978\t\t\t\t\t\t1665\t\t\t0\t18\t\t\t\t\t47019\t\t\t\t2345424\t\t\t\t\t\t\t52\t\t\t417438\t\t\t\t\t\t\t\t\t\t0\t\t\t\t\t\t\t\t0\t\t\t\t\t\t\t\t228\t\t\tQu0qrQKzJV\t2Knk1KF\tlvza\ttaul\t1K8T\tEJC9\tofiZR7x\tLJF4fPp\tQYxAlFM\tsmXZ\t5Rb0\t9_Y1\t15m3\tVpdQ\thaYg\tme75fM6ugJ\tkIsH\t\tuKAI\tMtgm\tXfqtO3UdzaXh_\t\tRQAGE01\t\t11p4mKe\tNvHl\tUYBR\tFzaX\tJO03372\toslk\tXlgxB9z\tLM8l689qOp\t\tkG3k\tFSa2\tRAYp\t55YFVY9\tam7c\t\r",
      "\r\n",
      "\t\t\t\t\t77\t0\t\t\t\t\t\t0\t\t\t\t\t\t\t\t32\t40\t\t2\t16\t\t\t230.56\t\t\t\t\t\t\t0\t\t\t3776496\t\t\t\t\t\t0\t\t\t\t\t\t\t\t\t\t\t\t\t5.067507\t\t\t\t\t\t\t\t9\t\t\t\t\t\t\t\t18\t0\t\t0\t\t3\t\t\t402441\t\t0\t\t2\t\t\t\t\t\t\t\t\t\t\t\t\t\t\t\t\t\t\t\t\t\t\t\t8\t\t\t0\t101923.6\t\t\t\t\t\t215\t\t\t\t12\t\t0\t-8\t\t\t\t\t\t8\t3839825\t1284128\t\t\t\t\t\t0\t\t\t0\t0\t\t\t\t\t4233600\t\t\t\t10577000\t\t\t\t\t\t\t6\t\t\t3628800\t\t\t\t\t\t\t\t\t\t0\t\t\t\t\t\t\t\t0\t\t\t\t\t\t\t\t\t\t\teOQgUHShse\tRO12\t\tLfvqpCtLOY\t1K8T\tBxva\tXlthli9\tGaiUdPAZp_\t\t\tMx5G\t9_Y1\tRVjC\tVpdQ\tIYzP\tme75fM6ugJ\tkIsH\t\tuKAI\tMtgm\tNhsEn4L\t\t\t\t7WwuNea\t9haV\tUYBR\t\tU8IKsQe\toslk\tR2LdzOv\t\t\t\tFSa2\tRAYp\tF2FyR07IdsN7I\t\t\r",
      "\r\n",
      "\t\t\t\t\t1176\t7\t\t\t\t\t\t2912\t\t\t\t\t\t\t\t200\t250\t\t2\t64\t\t\t300.32\t\t\t\t\t\t\t0\t\t\t6014460\t\t\t\t\t\t0\t\t\t\t\t\t\t\t\t\t\t\t\t2.045717\t\t\t\t\t\t\t\t27\t\t\t\t\t\t\t3\t72\t91\t\t1933712\t\t0\t\t\t117761.7\t\t40\t\t2\t\t\t\t\t\t\t\t\t45645\t\t\t\t\t\t\t\t\t\t\t\t\t\t\t56\t\t\t40\t161314.4\t\t\t\t\t\t790\t\t\t\t90\t\t2754\t\t\t\t\t\t\t0\t3830510\t203586\t\t\t\t\t\t3080\t\t\t0\t0\t\t\t\t\t114695\t\t\t\t10405680\t\t\t\t\t\t\t26\t\t\t98310\t\t\t\t\t\t\t\t\t\t0\t\t\t\t\t\t\t\t0\t\t\t\t\t\t\t\t\t\t\t4e7Wq69R_D\tRO12\tSEuy\ttaul\t1K8T\t0Xwj\t6CXYbuk\tokUBQrgaYWgG0\tz1Qe5zX\tsmXZ\t1G9T\tHLqf\tPx52\tVpdQ\tIYzP\tKxdu\tsBgB\t\t7A3j\tL84s\t9pUnzWLbztKTo\t\tyBN8Pcy\t\tkq0YABQ\t\t\tFzaX\tROeipLp\tzCkv\tK2SqEo9\tjySVZNlOJy\t\tkG3k\tPM2D\t6fzt\tam14IcfM7tWLrUmRT52KtA\tam7c\t\r",
      "\r\n"
     ]
    }
   ],
   "source": [
    "!head data/churn/orange_small_train.data"
   ]
  },
  {
   "cell_type": "code",
   "execution_count": 4,
   "metadata": {
    "collapsed": false
   },
   "outputs": [
    {
     "name": "stdout",
     "output_type": "stream",
     "text": [
      "   50001 data/churn/orange_small_train.data\r\n"
     ]
    }
   ],
   "source": [
    "!wc -l data/churn/orange_small_train.data"
   ]
  },
  {
   "cell_type": "code",
   "execution_count": 5,
   "metadata": {
    "collapsed": false
   },
   "outputs": [],
   "source": [
    "sc = ps.SparkContext()"
   ]
  },
  {
   "cell_type": "code",
   "execution_count": 6,
   "metadata": {
    "collapsed": true
   },
   "outputs": [],
   "source": [
    "churn_rdd = sc.textFile('file:///Users/jonathandinu/spark-ds-applications/data/churn/small_combined.tsv')"
   ]
  },
  {
   "cell_type": "code",
   "execution_count": 7,
   "metadata": {
    "collapsed": true
   },
   "outputs": [],
   "source": [
    "header = churn_rdd.first()\n",
    "\n",
    "# first 190 numeric, last 40 categorical\n",
    "churn_rows = churn_rdd.filter(lambda x: x != header).map(lambda x: x.split('\\t')[:190])"
   ]
  },
  {
   "cell_type": "code",
   "execution_count": 8,
   "metadata": {
    "collapsed": false
   },
   "outputs": [
    {
     "data": {
      "text/plain": [
       "[u'-1',\n",
       " u'',\n",
       " u'',\n",
       " u'',\n",
       " u'',\n",
       " u'',\n",
       " u'1526',\n",
       " u'7',\n",
       " u'',\n",
       " u'',\n",
       " u'',\n",
       " u'',\n",
       " u'',\n",
       " u'184',\n",
       " u'',\n",
       " u'',\n",
       " u'',\n",
       " u'',\n",
       " u'',\n",
       " u'',\n",
       " u'',\n",
       " u'464',\n",
       " u'580',\n",
       " u'',\n",
       " u'14',\n",
       " u'128',\n",
       " u'',\n",
       " u'',\n",
       " u'166.56',\n",
       " u'',\n",
       " u'',\n",
       " u'',\n",
       " u'',\n",
       " u'',\n",
       " u'',\n",
       " u'0',\n",
       " u'',\n",
       " u'',\n",
       " u'3570',\n",
       " u'',\n",
       " u'',\n",
       " u'',\n",
       " u'',\n",
       " u'',\n",
       " u'0',\n",
       " u'',\n",
       " u'',\n",
       " u'',\n",
       " u'',\n",
       " u'',\n",
       " u'',\n",
       " u'',\n",
       " u'',\n",
       " u'',\n",
       " u'',\n",
       " u'',\n",
       " u'',\n",
       " u'4.076907',\n",
       " u'',\n",
       " u'',\n",
       " u'',\n",
       " u'',\n",
       " u'',\n",
       " u'',\n",
       " u'',\n",
       " u'9',\n",
       " u'',\n",
       " u'',\n",
       " u'',\n",
       " u'',\n",
       " u'',\n",
       " u'',\n",
       " u'',\n",
       " u'36',\n",
       " u'35',\n",
       " u'',\n",
       " u'1350864',\n",
       " u'',\n",
       " u'0',\n",
       " u'',\n",
       " u'',\n",
       " u'7333.11',\n",
       " u'',\n",
       " u'5',\n",
       " u'',\n",
       " u'12',\n",
       " u'',\n",
       " u'',\n",
       " u'',\n",
       " u'',\n",
       " u'',\n",
       " u'',\n",
       " u'',\n",
       " u'',\n",
       " u'',\n",
       " u'',\n",
       " u'',\n",
       " u'',\n",
       " u'',\n",
       " u'',\n",
       " u'',\n",
       " u'',\n",
       " u'',\n",
       " u'',\n",
       " u'',\n",
       " u'',\n",
       " u'',\n",
       " u'',\n",
       " u'',\n",
       " u'104',\n",
       " u'',\n",
       " u'',\n",
       " u'168',\n",
       " u'117625.6',\n",
       " u'',\n",
       " u'',\n",
       " u'',\n",
       " u'',\n",
       " u'',\n",
       " u'1175',\n",
       " u'',\n",
       " u'',\n",
       " u'',\n",
       " u'6',\n",
       " u'',\n",
       " u'720',\n",
       " u'8',\n",
       " u'',\n",
       " u'',\n",
       " u'',\n",
       " u'',\n",
       " u'',\n",
       " u'0',\n",
       " u'1212385',\n",
       " u'69134',\n",
       " u'',\n",
       " u'',\n",
       " u'',\n",
       " u'',\n",
       " u'',\n",
       " u'185',\n",
       " u'',\n",
       " u'',\n",
       " u'0',\n",
       " u'9',\n",
       " u'',\n",
       " u'',\n",
       " u'',\n",
       " u'',\n",
       " u'397579',\n",
       " u'',\n",
       " u'',\n",
       " u'',\n",
       " u'1812252',\n",
       " u'',\n",
       " u'',\n",
       " u'',\n",
       " u'',\n",
       " u'',\n",
       " u'',\n",
       " u'142',\n",
       " u'',\n",
       " u'',\n",
       " u'38418',\n",
       " u'',\n",
       " u'',\n",
       " u'',\n",
       " u'',\n",
       " u'',\n",
       " u'',\n",
       " u'',\n",
       " u'',\n",
       " u'',\n",
       " u'0',\n",
       " u'',\n",
       " u'',\n",
       " u'',\n",
       " u'',\n",
       " u'',\n",
       " u'',\n",
       " u'',\n",
       " u'0',\n",
       " u'',\n",
       " u'',\n",
       " u'',\n",
       " u'',\n",
       " u'',\n",
       " u'',\n",
       " u'',\n",
       " u'462']"
      ]
     },
     "execution_count": 8,
     "metadata": {},
     "output_type": "execute_result"
    }
   ],
   "source": [
    "churn_rows.first()"
   ]
  },
  {
   "cell_type": "markdown",
   "metadata": {},
   "source": [
    "## Preprocessing\n",
    "* convert types\n",
    "* filter out null columns\n",
    "* imputing missing values"
   ]
  },
  {
   "cell_type": "code",
   "execution_count": 9,
   "metadata": {
    "collapsed": true
   },
   "outputs": [],
   "source": [
    "rdd_typed = churn_rows.map(lambda row: dict(zip(header.split('\\t')[:190], \\\n",
    "                                                           map(lambda x: None if x == '' else float(x), row))))"
   ]
  },
  {
   "cell_type": "code",
   "execution_count": 10,
   "metadata": {
    "collapsed": false
   },
   "outputs": [
    {
     "data": {
      "text/plain": [
       "{u'Var1': None,\n",
       " u'Var10': None,\n",
       " u'Var100': None,\n",
       " u'Var101': None,\n",
       " u'Var102': None,\n",
       " u'Var103': None,\n",
       " u'Var104': None,\n",
       " u'Var105': None,\n",
       " u'Var106': None,\n",
       " u'Var107': None,\n",
       " u'Var108': None,\n",
       " u'Var109': 104.0,\n",
       " u'Var11': None,\n",
       " u'Var110': None,\n",
       " u'Var111': None,\n",
       " u'Var112': 168.0,\n",
       " u'Var113': 117625.6,\n",
       " u'Var114': None,\n",
       " u'Var115': None,\n",
       " u'Var116': None,\n",
       " u'Var117': None,\n",
       " u'Var118': None,\n",
       " u'Var119': 1175.0,\n",
       " u'Var12': None,\n",
       " u'Var120': None,\n",
       " u'Var121': None,\n",
       " u'Var122': None,\n",
       " u'Var123': 6.0,\n",
       " u'Var124': None,\n",
       " u'Var125': 720.0,\n",
       " u'Var126': 8.0,\n",
       " u'Var127': None,\n",
       " u'Var128': None,\n",
       " u'Var129': None,\n",
       " u'Var13': 184.0,\n",
       " u'Var130': None,\n",
       " u'Var131': None,\n",
       " u'Var132': 0.0,\n",
       " u'Var133': 1212385.0,\n",
       " u'Var134': 69134.0,\n",
       " u'Var135': None,\n",
       " u'Var136': None,\n",
       " u'Var137': None,\n",
       " u'Var138': None,\n",
       " u'Var139': None,\n",
       " u'Var14': None,\n",
       " u'Var140': 185.0,\n",
       " u'Var141': None,\n",
       " u'Var142': None,\n",
       " u'Var143': 0.0,\n",
       " u'Var144': 9.0,\n",
       " u'Var145': None,\n",
       " u'Var146': None,\n",
       " u'Var147': None,\n",
       " u'Var148': None,\n",
       " u'Var149': 397579.0,\n",
       " u'Var15': None,\n",
       " u'Var150': None,\n",
       " u'Var151': None,\n",
       " u'Var152': None,\n",
       " u'Var153': 1812252.0,\n",
       " u'Var154': None,\n",
       " u'Var155': None,\n",
       " u'Var156': None,\n",
       " u'Var157': None,\n",
       " u'Var158': None,\n",
       " u'Var159': None,\n",
       " u'Var16': None,\n",
       " u'Var160': 142.0,\n",
       " u'Var161': None,\n",
       " u'Var162': None,\n",
       " u'Var163': 38418.0,\n",
       " u'Var164': None,\n",
       " u'Var165': None,\n",
       " u'Var166': None,\n",
       " u'Var167': None,\n",
       " u'Var168': None,\n",
       " u'Var169': None,\n",
       " u'Var17': None,\n",
       " u'Var170': None,\n",
       " u'Var171': None,\n",
       " u'Var172': None,\n",
       " u'Var173': 0.0,\n",
       " u'Var174': None,\n",
       " u'Var175': None,\n",
       " u'Var176': None,\n",
       " u'Var177': None,\n",
       " u'Var178': None,\n",
       " u'Var179': None,\n",
       " u'Var18': None,\n",
       " u'Var180': None,\n",
       " u'Var181': 0.0,\n",
       " u'Var182': None,\n",
       " u'Var183': None,\n",
       " u'Var184': None,\n",
       " u'Var185': None,\n",
       " u'Var186': None,\n",
       " u'Var187': None,\n",
       " u'Var188': None,\n",
       " u'Var189': 462.0,\n",
       " u'Var19': None,\n",
       " u'Var2': None,\n",
       " u'Var20': None,\n",
       " u'Var21': 464.0,\n",
       " u'Var22': 580.0,\n",
       " u'Var23': None,\n",
       " u'Var24': 14.0,\n",
       " u'Var25': 128.0,\n",
       " u'Var26': None,\n",
       " u'Var27': None,\n",
       " u'Var28': 166.56,\n",
       " u'Var29': None,\n",
       " u'Var3': None,\n",
       " u'Var30': None,\n",
       " u'Var31': None,\n",
       " u'Var32': None,\n",
       " u'Var33': None,\n",
       " u'Var34': None,\n",
       " u'Var35': 0.0,\n",
       " u'Var36': None,\n",
       " u'Var37': None,\n",
       " u'Var38': 3570.0,\n",
       " u'Var39': None,\n",
       " u'Var4': None,\n",
       " u'Var40': None,\n",
       " u'Var41': None,\n",
       " u'Var42': None,\n",
       " u'Var43': None,\n",
       " u'Var44': 0.0,\n",
       " u'Var45': None,\n",
       " u'Var46': None,\n",
       " u'Var47': None,\n",
       " u'Var48': None,\n",
       " u'Var49': None,\n",
       " u'Var5': None,\n",
       " u'Var50': None,\n",
       " u'Var51': None,\n",
       " u'Var52': None,\n",
       " u'Var53': None,\n",
       " u'Var54': None,\n",
       " u'Var55': None,\n",
       " u'Var56': None,\n",
       " u'Var57': 4.076907,\n",
       " u'Var58': None,\n",
       " u'Var59': None,\n",
       " u'Var6': 1526.0,\n",
       " u'Var60': None,\n",
       " u'Var61': None,\n",
       " u'Var62': None,\n",
       " u'Var63': None,\n",
       " u'Var64': None,\n",
       " u'Var65': 9.0,\n",
       " u'Var66': None,\n",
       " u'Var67': None,\n",
       " u'Var68': None,\n",
       " u'Var69': None,\n",
       " u'Var7': 7.0,\n",
       " u'Var70': None,\n",
       " u'Var71': None,\n",
       " u'Var72': None,\n",
       " u'Var73': 36.0,\n",
       " u'Var74': 35.0,\n",
       " u'Var75': None,\n",
       " u'Var76': 1350864.0,\n",
       " u'Var77': None,\n",
       " u'Var78': 0.0,\n",
       " u'Var79': None,\n",
       " u'Var8': None,\n",
       " u'Var80': None,\n",
       " u'Var81': 7333.11,\n",
       " u'Var82': None,\n",
       " u'Var83': 5.0,\n",
       " u'Var84': None,\n",
       " u'Var85': 12.0,\n",
       " u'Var86': None,\n",
       " u'Var87': None,\n",
       " u'Var88': None,\n",
       " u'Var89': None,\n",
       " u'Var9': None,\n",
       " u'Var90': None,\n",
       " u'Var91': None,\n",
       " u'Var92': None,\n",
       " u'Var93': None,\n",
       " u'Var94': None,\n",
       " u'Var95': None,\n",
       " u'Var96': None,\n",
       " u'Var97': None,\n",
       " u'Var98': None,\n",
       " u'Var99': None,\n",
       " u'label': -1.0}"
      ]
     },
     "execution_count": 10,
     "metadata": {},
     "output_type": "execute_result"
    }
   ],
   "source": [
    "rdd_typed.first()"
   ]
  },
  {
   "cell_type": "code",
   "execution_count": 11,
   "metadata": {
    "collapsed": true
   },
   "outputs": [],
   "source": [
    "from collections import Counter\n",
    "\n",
    "class CounterAccumulatorParam(ps.accumulators.AccumulatorParam):\n",
    "    def zero(self, initialValue):\n",
    "        return Counter()\n",
    "\n",
    "    def addInPlace(self, v1, v2):\n",
    "        v1 += v2\n",
    "        return v1\n",
    "\n",
    "accum = sc.accumulator(Counter(), CounterAccumulatorParam())\n",
    "\n",
    "def count_null(record):\n",
    "    global accum\n",
    "    \n",
    "    c = Counter()\n",
    "    \n",
    "    for key, value in record.items():\n",
    "            # since columns are initially strings\n",
    "            # empty string signals missing value\n",
    "            if value == None:\n",
    "                c[key] += 1\n",
    "                \n",
    "    accum.add(c)"
   ]
  },
  {
   "cell_type": "code",
   "execution_count": 12,
   "metadata": {
    "collapsed": true
   },
   "outputs": [],
   "source": [
    "rdd_typed.foreach(count_null)"
   ]
  },
  {
   "cell_type": "code",
   "execution_count": 13,
   "metadata": {
    "collapsed": false
   },
   "outputs": [
    {
     "data": {
      "text/plain": [
       "Counter({u'Var20': 50000, u'Var185': 50000, u'Var52': 50000, u'Var55': 50000, u'Var48': 50000, u'Var42': 50000, u'Var141': 50000, u'Var79': 50000, u'Var8': 50000, u'Var15': 50000, u'Var167': 50000, u'Var169': 50000, u'Var32': 50000, u'Var31': 50000, u'Var39': 50000, u'Var175': 50000, u'Var118': 49829, u'Var92': 49829, u'Var64': 49762, u'Var45': 49656, u'Var102': 49549, u'Var62': 49442, u'Var98': 49442, u'Var12': 49442, u'Var56': 49354, u'Var89': 49354, u'Var178': 49354, u'Var136': 49306, u'Var63': 49306, u'Var66': 49306, u'Var156': 49306, u'Var116': 49298, u'Var110': 49298, u'Var29': 49298, u'Var186': 49298, u'Var187': 49298, u'Var180': 49298, u'Var121': 49298, u'Var129': 49298, u'Var58': 49298, u'Var50': 49298, u'Var53': 49298, u'Var137': 49298, u'Var131': 49298, u'Var41': 49298, u'Var47': 49298, u'Var77': 49298, u'Var142': 49298, u'Var154': 49298, u'Var1': 49298, u'Var9': 49298, u'Var90': 49298, u'Var86': 49298, u'Var87': 49298, u'Var168': 49298, u'Var100': 49298, u'Var108': 49298, u'Var30': 49298, u'Var115': 49180, u'Var59': 49180, u'Var104': 49180, u'Var105': 49180, u'Var33': 49153, u'Var61': 49153, u'Var151': 49153, u'Var165': 49127, u'Var101': 49127, u'Var158': 49127, u'Var127': 48917, u'Var128': 48917, u'Var88': 48917, u'Var171': 48917, u'Var111': 48871, u'Var71': 48871, u'Var157': 48871, u'Var91': 48871, u'Var130': 48760, u'Var3': 48760, u'Var14': 48760, u'Var11': 48760, u'Var84': 48760, u'Var176': 48760, u'Var114': 48759, u'Var68': 48759, u'Var188': 48759, u'Var184': 48759, u'Var183': 48759, u'Var122': 48759, u'Var54': 48759, u'Var43': 48759, u'Var40': 48759, u'Var46': 48759, u'Var75': 48759, u'Var2': 48759, u'Var95': 48759, u'Var96': 48759, u'Var159': 48759, u'Var49': 48759, u'Var162': 48759, u'Var36': 48759, u'Var34': 48759, u'Var170': 48759, u'Var177': 48759, u'Var26': 48513, u'Var27': 48513, u'Var23': 48513, u'Var120': 48513, u'Var139': 48513, u'Var148': 48513, u'Var70': 48513, u'Var146': 48513, u'Var147': 48513, u'Var60': 48513, u'Var67': 48513, u'Var5': 48513, u'Var97': 48513, u'Var93': 48513, u'Var16': 48513, u'Var10': 48513, u'Var69': 48513, u'Var80': 48513, u'Var166': 48513, u'Var107': 48513, u'Var103': 48513, u'Var172': 48513, u'Var117': 48421, u'Var182': 48421, u'Var124': 48421, u'Var138': 48421, u'Var135': 48421, u'Var145': 48421, u'Var150': 48421, u'Var152': 48421, u'Var155': 48421, u'Var4': 48421, u'Var99': 48421, u'Var17': 48421, u'Var19': 48421, u'Var18': 48421, u'Var82': 48421, u'Var164': 48421, u'Var161': 48421, u'Var106': 48421, u'Var37': 48421, u'Var174': 48421, u'Var179': 48421, u'Var51': 46253, u'Var189': 28978, u'Var72': 22380, u'Var94': 22380, u'Var126': 13920, u'Var24': 7230, u'Var149': 7230, u'Var109': 7230, u'Var125': 5539, u'Var74': 5539, u'Var140': 5539, u'Var65': 5539, u'Var7': 5539, u'Var13': 5539, u'Var119': 5529, u'Var21': 5529, u'Var144': 5529, u'Var6': 5529, u'Var81': 5529, u'Var28': 5011, u'Var112': 5009, u'Var25': 5009, u'Var22': 5009, u'Var181': 5009, u'Var123': 5009, u'Var134': 5009, u'Var133': 5009, u'Var44': 5009, u'Var76': 5009, u'Var143': 5009, u'Var78': 5009, u'Var153': 5009, u'Var85': 5009, u'Var83': 5009, u'Var160': 5009, u'Var163': 5009, u'Var132': 5009, u'Var35': 5009, u'Var38': 5009, u'Var173': 5009})"
      ]
     },
     "execution_count": 13,
     "metadata": {},
     "output_type": "execute_result"
    }
   ],
   "source": [
    "accum.value"
   ]
  },
  {
   "cell_type": "code",
   "execution_count": 14,
   "metadata": {
    "collapsed": true
   },
   "outputs": [],
   "source": [
    "columns_to_drop = [ k for k, v in accum.value.items() if v > 15000]"
   ]
  },
  {
   "cell_type": "code",
   "execution_count": 15,
   "metadata": {
    "collapsed": true
   },
   "outputs": [],
   "source": [
    "columns_to_keep = set(header.split('\\t')[:190]) - set(columns_to_drop)"
   ]
  },
  {
   "cell_type": "code",
   "execution_count": 16,
   "metadata": {
    "collapsed": false
   },
   "outputs": [
    {
     "data": {
      "text/plain": [
       "40"
      ]
     },
     "execution_count": 16,
     "metadata": {},
     "output_type": "execute_result"
    }
   ],
   "source": [
    "len(columns_to_keep)"
   ]
  },
  {
   "cell_type": "code",
   "execution_count": 17,
   "metadata": {
    "collapsed": true
   },
   "outputs": [],
   "source": [
    "from pyspark.sql.types import *\n",
    "\n",
    "sqlContext = ps.HiveContext(sc)"
   ]
  },
  {
   "cell_type": "code",
   "execution_count": 18,
   "metadata": {
    "collapsed": false
   },
   "outputs": [],
   "source": [
    "df = sqlContext.jsonRDD(rdd_typed.map(lambda row: json.dumps(row)))"
   ]
  },
  {
   "cell_type": "code",
   "execution_count": 19,
   "metadata": {
    "collapsed": false
   },
   "outputs": [
    {
     "name": "stdout",
     "output_type": "stream",
     "text": [
      "root\n",
      " |-- Var1: double (nullable = true)\n",
      " |-- Var10: double (nullable = true)\n",
      " |-- Var100: double (nullable = true)\n",
      " |-- Var101: double (nullable = true)\n",
      " |-- Var102: double (nullable = true)\n",
      " |-- Var103: double (nullable = true)\n",
      " |-- Var104: double (nullable = true)\n",
      " |-- Var105: double (nullable = true)\n",
      " |-- Var106: double (nullable = true)\n",
      " |-- Var107: double (nullable = true)\n",
      " |-- Var108: double (nullable = true)\n",
      " |-- Var109: double (nullable = true)\n",
      " |-- Var11: double (nullable = true)\n",
      " |-- Var110: double (nullable = true)\n",
      " |-- Var111: double (nullable = true)\n",
      " |-- Var112: double (nullable = true)\n",
      " |-- Var113: double (nullable = true)\n",
      " |-- Var114: double (nullable = true)\n",
      " |-- Var115: double (nullable = true)\n",
      " |-- Var116: double (nullable = true)\n",
      " |-- Var117: double (nullable = true)\n",
      " |-- Var118: double (nullable = true)\n",
      " |-- Var119: double (nullable = true)\n",
      " |-- Var12: double (nullable = true)\n",
      " |-- Var120: double (nullable = true)\n",
      " |-- Var121: double (nullable = true)\n",
      " |-- Var122: double (nullable = true)\n",
      " |-- Var123: double (nullable = true)\n",
      " |-- Var124: double (nullable = true)\n",
      " |-- Var125: double (nullable = true)\n",
      " |-- Var126: double (nullable = true)\n",
      " |-- Var127: double (nullable = true)\n",
      " |-- Var128: double (nullable = true)\n",
      " |-- Var129: double (nullable = true)\n",
      " |-- Var13: double (nullable = true)\n",
      " |-- Var130: double (nullable = true)\n",
      " |-- Var131: double (nullable = true)\n",
      " |-- Var132: double (nullable = true)\n",
      " |-- Var133: double (nullable = true)\n",
      " |-- Var134: double (nullable = true)\n",
      " |-- Var135: double (nullable = true)\n",
      " |-- Var136: double (nullable = true)\n",
      " |-- Var137: double (nullable = true)\n",
      " |-- Var138: double (nullable = true)\n",
      " |-- Var139: double (nullable = true)\n",
      " |-- Var14: double (nullable = true)\n",
      " |-- Var140: double (nullable = true)\n",
      " |-- Var141: string (nullable = true)\n",
      " |-- Var142: double (nullable = true)\n",
      " |-- Var143: double (nullable = true)\n",
      " |-- Var144: double (nullable = true)\n",
      " |-- Var145: double (nullable = true)\n",
      " |-- Var146: double (nullable = true)\n",
      " |-- Var147: double (nullable = true)\n",
      " |-- Var148: double (nullable = true)\n",
      " |-- Var149: double (nullable = true)\n",
      " |-- Var15: string (nullable = true)\n",
      " |-- Var150: double (nullable = true)\n",
      " |-- Var151: double (nullable = true)\n",
      " |-- Var152: double (nullable = true)\n",
      " |-- Var153: double (nullable = true)\n",
      " |-- Var154: double (nullable = true)\n",
      " |-- Var155: double (nullable = true)\n",
      " |-- Var156: double (nullable = true)\n",
      " |-- Var157: double (nullable = true)\n",
      " |-- Var158: double (nullable = true)\n",
      " |-- Var159: double (nullable = true)\n",
      " |-- Var16: double (nullable = true)\n",
      " |-- Var160: double (nullable = true)\n",
      " |-- Var161: double (nullable = true)\n",
      " |-- Var162: double (nullable = true)\n",
      " |-- Var163: double (nullable = true)\n",
      " |-- Var164: double (nullable = true)\n",
      " |-- Var165: double (nullable = true)\n",
      " |-- Var166: double (nullable = true)\n",
      " |-- Var167: string (nullable = true)\n",
      " |-- Var168: double (nullable = true)\n",
      " |-- Var169: string (nullable = true)\n",
      " |-- Var17: double (nullable = true)\n",
      " |-- Var170: double (nullable = true)\n",
      " |-- Var171: double (nullable = true)\n",
      " |-- Var172: double (nullable = true)\n",
      " |-- Var173: double (nullable = true)\n",
      " |-- Var174: double (nullable = true)\n",
      " |-- Var175: string (nullable = true)\n",
      " |-- Var176: double (nullable = true)\n",
      " |-- Var177: double (nullable = true)\n",
      " |-- Var178: double (nullable = true)\n",
      " |-- Var179: double (nullable = true)\n",
      " |-- Var18: double (nullable = true)\n",
      " |-- Var180: double (nullable = true)\n",
      " |-- Var181: double (nullable = true)\n",
      " |-- Var182: double (nullable = true)\n",
      " |-- Var183: double (nullable = true)\n",
      " |-- Var184: double (nullable = true)\n",
      " |-- Var185: string (nullable = true)\n",
      " |-- Var186: double (nullable = true)\n",
      " |-- Var187: double (nullable = true)\n",
      " |-- Var188: double (nullable = true)\n",
      " |-- Var189: double (nullable = true)\n",
      " |-- Var19: double (nullable = true)\n",
      " |-- Var2: double (nullable = true)\n",
      " |-- Var20: string (nullable = true)\n",
      " |-- Var21: double (nullable = true)\n",
      " |-- Var22: double (nullable = true)\n",
      " |-- Var23: double (nullable = true)\n",
      " |-- Var24: double (nullable = true)\n",
      " |-- Var25: double (nullable = true)\n",
      " |-- Var26: double (nullable = true)\n",
      " |-- Var27: double (nullable = true)\n",
      " |-- Var28: double (nullable = true)\n",
      " |-- Var29: double (nullable = true)\n",
      " |-- Var3: double (nullable = true)\n",
      " |-- Var30: double (nullable = true)\n",
      " |-- Var31: string (nullable = true)\n",
      " |-- Var32: string (nullable = true)\n",
      " |-- Var33: double (nullable = true)\n",
      " |-- Var34: double (nullable = true)\n",
      " |-- Var35: double (nullable = true)\n",
      " |-- Var36: double (nullable = true)\n",
      " |-- Var37: double (nullable = true)\n",
      " |-- Var38: double (nullable = true)\n",
      " |-- Var39: string (nullable = true)\n",
      " |-- Var4: double (nullable = true)\n",
      " |-- Var40: double (nullable = true)\n",
      " |-- Var41: double (nullable = true)\n",
      " |-- Var42: string (nullable = true)\n",
      " |-- Var43: double (nullable = true)\n",
      " |-- Var44: double (nullable = true)\n",
      " |-- Var45: double (nullable = true)\n",
      " |-- Var46: double (nullable = true)\n",
      " |-- Var47: double (nullable = true)\n",
      " |-- Var48: string (nullable = true)\n",
      " |-- Var49: double (nullable = true)\n",
      " |-- Var5: double (nullable = true)\n",
      " |-- Var50: double (nullable = true)\n",
      " |-- Var51: double (nullable = true)\n",
      " |-- Var52: string (nullable = true)\n",
      " |-- Var53: double (nullable = true)\n",
      " |-- Var54: double (nullable = true)\n",
      " |-- Var55: string (nullable = true)\n",
      " |-- Var56: double (nullable = true)\n",
      " |-- Var57: double (nullable = true)\n",
      " |-- Var58: double (nullable = true)\n",
      " |-- Var59: double (nullable = true)\n",
      " |-- Var6: double (nullable = true)\n",
      " |-- Var60: double (nullable = true)\n",
      " |-- Var61: double (nullable = true)\n",
      " |-- Var62: double (nullable = true)\n",
      " |-- Var63: double (nullable = true)\n",
      " |-- Var64: double (nullable = true)\n",
      " |-- Var65: double (nullable = true)\n",
      " |-- Var66: double (nullable = true)\n",
      " |-- Var67: double (nullable = true)\n",
      " |-- Var68: double (nullable = true)\n",
      " |-- Var69: double (nullable = true)\n",
      " |-- Var7: double (nullable = true)\n",
      " |-- Var70: double (nullable = true)\n",
      " |-- Var71: double (nullable = true)\n",
      " |-- Var72: double (nullable = true)\n",
      " |-- Var73: double (nullable = true)\n",
      " |-- Var74: double (nullable = true)\n",
      " |-- Var75: double (nullable = true)\n",
      " |-- Var76: double (nullable = true)\n",
      " |-- Var77: double (nullable = true)\n",
      " |-- Var78: double (nullable = true)\n",
      " |-- Var79: string (nullable = true)\n",
      " |-- Var8: string (nullable = true)\n",
      " |-- Var80: double (nullable = true)\n",
      " |-- Var81: double (nullable = true)\n",
      " |-- Var82: double (nullable = true)\n",
      " |-- Var83: double (nullable = true)\n",
      " |-- Var84: double (nullable = true)\n",
      " |-- Var85: double (nullable = true)\n",
      " |-- Var86: double (nullable = true)\n",
      " |-- Var87: double (nullable = true)\n",
      " |-- Var88: double (nullable = true)\n",
      " |-- Var89: double (nullable = true)\n",
      " |-- Var9: double (nullable = true)\n",
      " |-- Var90: double (nullable = true)\n",
      " |-- Var91: double (nullable = true)\n",
      " |-- Var92: double (nullable = true)\n",
      " |-- Var93: double (nullable = true)\n",
      " |-- Var94: double (nullable = true)\n",
      " |-- Var95: double (nullable = true)\n",
      " |-- Var96: double (nullable = true)\n",
      " |-- Var97: double (nullable = true)\n",
      " |-- Var98: double (nullable = true)\n",
      " |-- Var99: double (nullable = true)\n",
      " |-- label: double (nullable = true)\n",
      "\n"
     ]
    }
   ],
   "source": [
    "df.printSchema()"
   ]
  },
  {
   "cell_type": "code",
   "execution_count": 20,
   "metadata": {
    "collapsed": true
   },
   "outputs": [],
   "source": [
    "df_subset = df.select(list(columns_to_keep))"
   ]
  },
  {
   "cell_type": "code",
   "execution_count": 21,
   "metadata": {
    "collapsed": false,
    "scrolled": true
   },
   "outputs": [
    {
     "name": "stdout",
     "output_type": "stream",
     "text": [
      "+-----+---------+------+----------+---------+---------+------+--------+------+-----+------+-----+-----+---------+------+-----+----+------+-----+-----+------+------+------+-----+------+---------+---------+-----+-------+------+------+-------+---------+------+-----+------+------+---------+-----+------+\n",
      "|Var65|   Var113|Var112|    Var153|   Var134|   Var133|Var132|   Var81|Var123|Var74| Var28|Var24|Var25|    Var38| Var21|Var44|Var7|  Var6|Var83|label|Var160| Var22|Var143|Var35|Var181|    Var76|   Var149|Var73| Var125|Var126|Var119| Var140|   Var163|Var144|Var78| Var13|Var109|    Var57|Var85|Var173|\n",
      "+-----+---------+------+----------+---------+---------+------+--------+------+-----+------+-----+-----+---------+------+-----+----+------+-----+-----+------+------+------+-----+------+---------+---------+-----+-------+------+------+-------+---------+------+-----+------+------+---------+-----+------+\n",
      "|  9.0| 117625.6| 168.0| 1812252.0|  69134.0|1212385.0|   0.0| 7333.11|   6.0| 35.0|166.56| 14.0|128.0|   3570.0| 464.0|  0.0| 7.0|1526.0|  5.0| -1.0| 142.0| 580.0|   0.0|  0.0|   0.0|1350864.0| 397579.0| 36.0|  720.0|   8.0|1175.0|  185.0|  38418.0|   9.0|  0.0| 184.0| 104.0| 4.076907| 12.0|   0.0|\n",
      "|  9.0|-356411.6|  40.0|1.043916E7| 357038.0|4136430.0|   8.0|151098.9|  72.0|  0.0|353.52|  2.0| 24.0|4764966.0| 168.0|  0.0| 0.0| 525.0| 25.0| -1.0|  32.0| 210.0|   0.0|  0.0|   0.0|2872928.0| 278334.0| 26.0|    0.0|  null| 590.0|    0.0| 238572.0|   9.0|  3.0|   0.0|  40.0| 5.408032|  2.0|   0.0|\n",
      "|  9.0| 405104.0| 336.0| 9826360.0| 248932.0|3478905.0|   0.0|16211.58| 114.0|518.0|220.08| 26.0|816.0|5883894.0|1212.0|  0.0| 7.0|5236.0| 40.0| -1.0| 206.0|1515.0|   0.0|  0.0|   0.0|1675776.0| 320565.0|130.0| 5967.0| -28.0|3230.0|  800.0| 434946.0|  36.0|  0.0| 904.0| 312.0| 6.599658| 58.0|   0.0|\n",
      "|  9.0|-275703.6|   0.0|       0.0|      0.0|      0.0|   0.0|    null|   0.0|  0.0| 22.08| null|  0.0|      0.0|  null|  0.0| 0.0|  null|  0.0| -1.0|   0.0|   0.0|   0.0|  0.0|   0.0|      0.0|     null| 12.0|    0.0| -14.0|  null|    0.0|      0.0|  null|  0.0|   0.0|  null|  1.98825|  0.0|   0.0|\n",
      "| 18.0| 10714.84|  56.0|  644836.0|  66046.0| 150650.0|   0.0| 37423.5|   0.0|224.0| 200.0|  4.0| 64.0|      0.0|  64.0|  0.0| 7.0|1029.0|  0.0| -1.0|   2.0|  80.0|   0.0|  0.0|   0.0| 784448.0| 267162.0| 82.0|15111.0|  58.0| 215.0| 3255.0|      0.0|   9.0|  0.0|3216.0|  32.0| 4.552446|  0.0|   0.0|\n",
      "|  9.0| 369814.0|  64.0|  745620.0|  43684.0| 641020.0|   8.0|11370.72|   0.0|196.0| 200.0|  2.0| 72.0|      0.0| 224.0|  0.0| 7.0| 658.0|  0.0| -1.0|  68.0| 280.0|   0.0|  5.0|   0.0| 209048.0|   2639.0|126.0| 1935.0|  null| 755.0|  355.0|  61368.0|   9.0|  0.0|3156.0|  32.0|0.1664174| 10.0|   0.0|\n",
      "|  9.0|-808528.0| 176.0| 2345424.0| 104978.0|1664450.0|   0.0| 31655.4|  24.0|392.0|176.56|  4.0|128.0|  13158.0| 308.0|  0.0| 7.0|1680.0|  5.0| -1.0|  52.0| 385.0|   0.0|  0.0|   0.0|1030800.0|  47019.0|114.0|13194.0| -24.0|1080.0| 1665.0| 417438.0|  18.0|  0.0|2952.0|  88.0| 5.448622| 16.0|   0.0|\n",
      "|  9.0| 101923.6|   0.0|  1.0577E7|1284128.0|3839825.0|   8.0|402441.0|  12.0|  0.0|230.56|  2.0| 16.0|3776496.0|  32.0|  0.0| 0.0|  77.0|  0.0| -1.0|   6.0|  40.0|   0.0|  0.0|   0.0|      0.0|4233600.0| 18.0|    0.0|  -8.0| 215.0|    0.0|3628800.0|   0.0|  3.0|   0.0|   8.0| 5.067507|  2.0|   0.0|\n",
      "| 27.0| 161314.4|  40.0|1.040568E7| 203586.0|3830510.0|   0.0|117761.7|  90.0| 91.0|300.32|  2.0| 64.0|6014460.0| 200.0|  0.0| 7.0|1176.0| 40.0| -1.0|  26.0| 250.0|   0.0|  0.0|   0.0|1933712.0| 114695.0| 72.0| 2754.0|  null| 790.0| 3080.0|  98310.0|   0.0|  0.0|2912.0|  56.0| 2.045717|  2.0|   0.0|\n",
      "| 18.0| 842480.0|  32.0| 7608840.0| 210014.0|2577245.0|  32.0|149686.5|  66.0|  0.0|166.56|  2.0| 72.0|5317974.0| 208.0|  0.0| 7.0|1141.0| 10.0| -1.0|  28.0| 260.0|   0.0|  5.0|   0.0|1858088.0| 227892.0|114.0| 6561.0|  null|1065.0|  155.0| 132210.0|  18.0|  6.0| 164.0| 112.0| 6.326853| 24.0|   2.0|\n",
      "|  9.0| -4831.72|  32.0|   28704.0|   7134.0|      0.0|   0.0|2739.141|  12.0|105.0|133.12|  6.0|112.0|   3534.0|  92.0|  0.0| 7.0| 490.0|  0.0| -1.0|   0.0| 115.0|   0.0|  0.0|   0.0|  13048.0|   9128.0|128.0| 5823.0|  58.0| 215.0|   95.0|   8334.0|  18.0|  0.0|2060.0|  56.0| 4.091647|  6.0|   0.0|\n",
      "| 27.0|  67166.4| 120.0|  613124.0|  15166.0| 134105.0|   8.0| 9885.09|  24.0|371.0|133.12|  8.0| 40.0| 446868.0| 236.0|  0.0|14.0| 798.0| 10.0| -1.0|  38.0| 295.0|   0.0|  5.0|   0.0| 147784.0|  50701.0| 76.0|66825.0|  52.0| 295.0|13115.0| 154482.0|   0.0|  0.0|2892.0| 120.0| 4.432173| 28.0|   0.0|\n",
      "|  9.0| -45625.2|   0.0|       0.0|      0.0|      0.0|   0.0| 34917.0|   0.0|  0.0|240.56| null|  0.0|      0.0|   0.0|  0.0| 0.0| 595.0|  0.0| -1.0|   0.0|   0.0|   0.0|  0.0|   0.0|      0.0|     null|148.0|44154.0|  10.0| 205.0|    0.0|      0.0|  27.0|  0.0|2044.0|  null| 1.899594|  0.0|   0.0|\n",
      "|  9.0|-179277.6| 104.0| 5710720.0|1095062.0|2772010.0|   0.0|19991.43|  54.0|  0.0|176.56| 10.0|216.0|  87294.0| 480.0|  0.0| 0.0|2268.0| 25.0| -1.0| 110.0| 600.0|   0.0|  0.0|   0.0| 399032.0| 793065.0| 48.0| 5202.0|  null|1575.0|    0.0|1521276.0|   0.0|  0.0|   0.0| 104.0| 2.524888| 22.0|   0.0|\n",
      "|  9.0| 357684.4|  16.0|1.029736E7|  57596.0|2170355.0|   0.0| 32325.3| 102.0|161.0|236.08|  0.0|  8.0|8521620.0| 148.0|  0.0| 7.0|3633.0| 30.0|  1.0|  22.0| 185.0|   0.0|  0.0|   0.0|1382400.0|      0.0| 34.0|31104.0|   8.0|1325.0|   70.0|      0.0|  18.0|  0.0| 500.0|  32.0| 3.357189|  0.0|   0.0|\n",
      "|  9.0|-2135.144|  16.0|   17016.0|      0.0|      0.0|   0.0|1691.829|   0.0|  0.0|166.56|  0.0|  0.0|      0.0|   8.0|  0.0| 0.0| 259.0|  0.0| -1.0|   0.0|  10.0|   0.0|  0.0|   0.0|  34032.0|      0.0|132.0| 2574.0|  null|  20.0|    0.0|      0.0|   9.0|  0.0| 348.0|  16.0| 1.224525|  0.0|   0.0|\n",
      "|  9.0|  -9852.0| 112.0| 9025240.0| 587392.0|3571845.0|  48.0|25544.49| 186.0|175.0|220.08|  6.0|320.0|3253506.0| 584.0|  0.0| 7.0|5152.0| 75.0| -1.0|  78.0| 730.0|   0.0| 30.0|   0.0|1660392.0|  27881.0|158.0| 8019.0|  null|2470.0| 8495.0|2008362.0|  36.0|  0.0|2024.0|  96.0| 2.873745| 14.0|   0.0|\n",
      "|  9.0|-35706.72| 128.0|  982036.0|  31436.0| 500295.0|   8.0| 30019.2|  30.0|  0.0|166.56|  2.0| 32.0| 548748.0| 168.0|  0.0| 7.0|1449.0|  0.0| -1.0|  34.0| 210.0|   0.0|  5.0|   0.0| 306192.0| 173894.0|140.0| 5319.0|  null| 690.0|  120.0|      0.0|  18.0|  0.0|  28.0|  16.0| 3.308268|  0.0|   0.0|\n",
      "| 18.0|-514956.0|   8.0| 2898024.0|      0.0| 918350.0|   0.0|232930.5|   0.0|  0.0|253.52|  2.0|  0.0|      0.0|  12.0|  0.0| 7.0| 574.0|  0.0| -1.0|   2.0|  15.0|   0.0|  0.0|   0.0|4132128.0| 170240.0| 66.0|13788.0|   4.0| 165.0|    5.0| 145920.0|   9.0|  0.0|1752.0|  16.0| 5.430891|  2.0|   0.0|\n",
      "|  9.0|  64737.2|  24.0| 2807668.0| 392138.0|2055150.0|   0.0| 46263.9|   0.0|  0.0|166.56|  2.0| 96.0|      0.0| 156.0|  0.0| 7.0| 658.0|  0.0| -1.0|  34.0| 195.0|   0.0|  0.0|   0.0| 153672.0|  32249.0| 38.0| 7110.0|  null| 845.0|   45.0| 453654.0|   0.0|  0.0|   0.0|  56.0| 5.402905| 14.0|   0.0|\n",
      "+-----+---------+------+----------+---------+---------+------+--------+------+-----+------+-----+-----+---------+------+-----+----+------+-----+-----+------+------+------+-----+------+---------+---------+-----+-------+------+------+-------+---------+------+-----+------+------+---------+-----+------+\n",
      "\n"
     ]
    }
   ],
   "source": [
    "df_subset.show()"
   ]
  },
  {
   "cell_type": "code",
   "execution_count": 22,
   "metadata": {
    "collapsed": false
   },
   "outputs": [
    {
     "data": {
      "text/plain": [
       "50000"
      ]
     },
     "execution_count": 22,
     "metadata": {},
     "output_type": "execute_result"
    }
   ],
   "source": [
    "df_subset.count()"
   ]
  },
  {
   "cell_type": "code",
   "execution_count": 23,
   "metadata": {
    "collapsed": false
   },
   "outputs": [
    {
     "data": {
      "text/plain": [
       "29675"
      ]
     },
     "execution_count": 23,
     "metadata": {},
     "output_type": "execute_result"
    }
   ],
   "source": [
    "df_subset.dropna().count()"
   ]
  },
  {
   "cell_type": "code",
   "execution_count": 24,
   "metadata": {
    "collapsed": false,
    "scrolled": true
   },
   "outputs": [
    {
     "name": "stdout",
     "output_type": "stream",
     "text": [
      "+-------+------------------+-------------------+------------------+-----------------+-----------------+------------------+------------------+------------------+----------------+------------------+-----------------+-----------------+------------------+-----------------+-----------------+-------------------+-----------------+-----------------+------------------+------------------+-----------------+-----------------+--------------------+------------------+------------------+------------------+-----------------+-----------------+-----------------+------------------+------------------+-----------------+------------------+------------------+------------------+------------------+------------------+------------------+------------------+--------------------+\n",
      "|summary|             Var65|             Var113|            Var112|           Var153|           Var134|            Var133|            Var132|             Var81|          Var123|             Var74|            Var28|            Var24|             Var25|            Var38|            Var21|              Var44|             Var7|             Var6|             Var83|             label|           Var160|            Var22|              Var143|             Var35|            Var181|             Var76|           Var149|            Var73|           Var125|            Var126|            Var119|           Var140|            Var163|            Var144|             Var78|             Var13|            Var109|             Var57|             Var85|              Var173|\n",
      "+-------+------------------+-------------------+------------------+-----------------+-----------------+------------------+------------------+------------------+----------------+------------------+-----------------+-----------------+------------------+-----------------+-----------------+-------------------+-----------------+-----------------+------------------+------------------+-----------------+-----------------+--------------------+------------------+------------------+------------------+-----------------+-----------------+-----------------+------------------+------------------+-----------------+------------------+------------------+------------------+------------------+------------------+------------------+------------------+--------------------+\n",
      "|  count|             44461|              50000|             44991|            44991|            44991|             44991|             44991|             44471|           44991|             44461|            44989|            42770|             44991|            44991|            44471|              44991|            44461|            44471|             44991|             50000|            44991|            44991|               44991|             44991|             44991|             44991|            42770|            50000|            44461|             36080|             44471|            44461|             44991|             44471|             44991|             44461|             42770|             50000|             44991|               44991|\n",
      "|   mean|14.868896336114798|-153278.60848674004| 66.22106643550933|6181967.170056233|437340.3848769754|2273571.9194950103|3.5246160343179747|103084.05269283189|60.1880376075215|103.65812734756304|224.5076691635697|4.507926116436755| 96.82700984641373|2579106.927518837|234.5182253603472|0.16683336667333468|6.809495962753874|1326.437116322997|20.023560267609078|          -0.85272|38.80300504545354|290.2453824098153|0.058011602320464095|0.7168100286724012| 0.611455624458225|1490153.8366339935|294920.8042553192|         66.64108|27887.62517712152|-0.553880266075388| 916.1121854691821|1381.259643282877|486077.95665799826|11.727665220031032|0.5347069413882777|1249.6884010706012| 60.88866027589432|3.5123114701969853| 8.461025538441021|0.006845813607165...|\n",
      "| stddev|10.134327331736102|  761365.3695940942|157.63591913155358|4348877.763364088| 604334.753868816| 2438572.485511682|  9.99476701529489|106270.93869067538|221.548840273776|  766.703355566123| 98.5191453387728|9.928702830121349|214.31590153937137|3010043.004255119|565.5537877935196| 1.6293259756923721|6.325981976755302|2685.663472104636| 88.12848255574919|0.5223682624356115|99.49604349450925|704.4821604398131|   0.643053676353341| 2.995973814257233|2.4956536011110058|1853672.8684453683|656886.9466036924|52.85864145467229|90127.36785162108| 22.53178295782185|2165.4088085123512|3990.465644888673| 848854.3752908827|11.720156701794112|2.1353354773088835| 2794.923441824558|141.24755079494338| 2.025861574298318|20.620255501550034| 0.13250153033152776|\n",
      "|    min|               9.0|         -9803600.0|               0.0|              0.0|              0.0|               0.0|               0.0|               0.0|             0.0|               0.0|           -66.88|              0.0|               0.0|              0.0|              0.0|                0.0|              0.0|              0.0|               0.0|              -1.0|              0.0|              0.0|                 0.0|               0.0|               0.0|               0.0|              0.0|              4.0|              0.0|             -32.0|               0.0|              0.0|               0.0|               0.0|               0.0|               0.0|               0.0|       2.136296E-4|               0.0|                 0.0|\n",
      "|    max|             180.0|          9932480.0|           10352.0|        1.39078E7|        5735340.0|         1.50099E7|             184.0|         1814403.0|         13086.0|          142156.0|          5158.56|            494.0|           13168.0|        1.88469E7|          36272.0|              135.0|            140.0|         131761.0|            6335.0|               1.0|           4862.0|          45340.0|                18.0|             110.0|              49.0|         1.93536E7|        1.69344E7|            264.0|        5436045.0|              68.0|          105060.0|         520545.0|         1.45152E7|              81.0|              39.0|          197872.0|            7456.0|               7.0|            1178.0|                 6.0|\n",
      "+-------+------------------+-------------------+------------------+-----------------+-----------------+------------------+------------------+------------------+----------------+------------------+-----------------+-----------------+------------------+-----------------+-----------------+-------------------+-----------------+-----------------+------------------+------------------+-----------------+-----------------+--------------------+------------------+------------------+------------------+-----------------+-----------------+-----------------+------------------+------------------+-----------------+------------------+------------------+------------------+------------------+------------------+------------------+------------------+--------------------+\n",
      "\n"
     ]
    }
   ],
   "source": [
    "summary = df_subset.describe()\n",
    "summary.show()"
   ]
  },
  {
   "cell_type": "code",
   "execution_count": 25,
   "metadata": {
    "collapsed": true
   },
   "outputs": [],
   "source": [
    "means_df = summary.toPandas().set_index('summary').loc['mean']"
   ]
  },
  {
   "cell_type": "code",
   "execution_count": 26,
   "metadata": {
    "collapsed": false
   },
   "outputs": [
    {
     "data": {
      "text/plain": [
       "Var65        14.868896336114798\n",
       "Var113      -153278.60848674004\n",
       "Var112        66.22106643550933\n",
       "Var153        6181967.170056233\n",
       "Var134        437340.3848769754\n",
       "Var133       2273571.9194950103\n",
       "Var132       3.5246160343179747\n",
       "Var81        103084.05269283189\n",
       "Var123         60.1880376075215\n",
       "Var74        103.65812734756304\n",
       "Var28         224.5076691635697\n",
       "Var24         4.507926116436755\n",
       "Var25         96.82700984641373\n",
       "Var38         2579106.927518837\n",
       "Var21         234.5182253603472\n",
       "Var44       0.16683336667333468\n",
       "Var7          6.809495962753874\n",
       "Var6          1326.437116322997\n",
       "Var83        20.023560267609078\n",
       "label                  -0.85272\n",
       "Var160        38.80300504545354\n",
       "Var22         290.2453824098153\n",
       "Var143     0.058011602320464095\n",
       "Var35        0.7168100286724012\n",
       "Var181        0.611455624458225\n",
       "Var76        1490153.8366339935\n",
       "Var149        294920.8042553192\n",
       "Var73                  66.64108\n",
       "Var125        27887.62517712152\n",
       "Var126       -0.553880266075388\n",
       "Var119        916.1121854691821\n",
       "Var140        1381.259643282877\n",
       "Var163       486077.95665799826\n",
       "Var144       11.727665220031032\n",
       "Var78        0.5347069413882777\n",
       "Var13        1249.6884010706012\n",
       "Var109        60.88866027589432\n",
       "Var57        3.5123114701969853\n",
       "Var85         8.461025538441021\n",
       "Var173    0.0068458136071658775\n",
       "Name: mean, dtype: object"
      ]
     },
     "execution_count": 26,
     "metadata": {},
     "output_type": "execute_result"
    }
   ],
   "source": [
    "means_df"
   ]
  },
  {
   "cell_type": "code",
   "execution_count": 27,
   "metadata": {
    "collapsed": true
   },
   "outputs": [],
   "source": [
    "imputed = df_subset.na.fill(dict(means_df.apply(float)))"
   ]
  },
  {
   "cell_type": "code",
   "execution_count": 28,
   "metadata": {
    "collapsed": false
   },
   "outputs": [
    {
     "data": {
      "text/plain": [
       "[Row(Var65=9.0, Var113=117625.6, Var112=168.0, Var153=1812252.0, Var134=69134.0, Var133=1212385.0, Var132=0.0, Var81=7333.11, Var123=6.0, Var74=35.0, Var28=166.56, Var24=14.0, Var25=128.0, Var38=3570.0, Var21=464.0, Var44=0.0, Var7=7.0, Var6=1526.0, Var83=5.0, label=-1.0, Var160=142.0, Var22=580.0, Var143=0.0, Var35=0.0, Var181=0.0, Var76=1350864.0, Var149=397579.0, Var73=36.0, Var125=720.0, Var126=8.0, Var119=1175.0, Var140=185.0, Var163=38418.0, Var144=9.0, Var78=0.0, Var13=184.0, Var109=104.0, Var57=4.076907, Var85=12.0, Var173=0.0),\n",
       " Row(Var65=9.0, Var113=-356411.6, Var112=40.0, Var153=10439160.0, Var134=357038.0, Var133=4136430.0, Var132=8.0, Var81=151098.9, Var123=72.0, Var74=0.0, Var28=353.52, Var24=2.0, Var25=24.0, Var38=4764966.0, Var21=168.0, Var44=0.0, Var7=0.0, Var6=525.0, Var83=25.0, label=-1.0, Var160=32.0, Var22=210.0, Var143=0.0, Var35=0.0, Var181=0.0, Var76=2872928.0, Var149=278334.0, Var73=26.0, Var125=0.0, Var126=-0.553880266075, Var119=590.0, Var140=0.0, Var163=238572.0, Var144=9.0, Var78=3.0, Var13=0.0, Var109=40.0, Var57=5.408032, Var85=2.0, Var173=0.0),\n",
       " Row(Var65=9.0, Var113=405104.0, Var112=336.0, Var153=9826360.0, Var134=248932.0, Var133=3478905.0, Var132=0.0, Var81=16211.58, Var123=114.0, Var74=518.0, Var28=220.08, Var24=26.0, Var25=816.0, Var38=5883894.0, Var21=1212.0, Var44=0.0, Var7=7.0, Var6=5236.0, Var83=40.0, label=-1.0, Var160=206.0, Var22=1515.0, Var143=0.0, Var35=0.0, Var181=0.0, Var76=1675776.0, Var149=320565.0, Var73=130.0, Var125=5967.0, Var126=-28.0, Var119=3230.0, Var140=800.0, Var163=434946.0, Var144=36.0, Var78=0.0, Var13=904.0, Var109=312.0, Var57=6.599658, Var85=58.0, Var173=0.0),\n",
       " Row(Var65=9.0, Var113=-275703.6, Var112=0.0, Var153=0.0, Var134=0.0, Var133=0.0, Var132=0.0, Var81=103084.052693, Var123=0.0, Var74=0.0, Var28=22.08, Var24=4.50792611644, Var25=0.0, Var38=0.0, Var21=234.51822536, Var44=0.0, Var7=0.0, Var6=1326.43711632, Var83=0.0, label=-1.0, Var160=0.0, Var22=0.0, Var143=0.0, Var35=0.0, Var181=0.0, Var76=0.0, Var149=294920.804255, Var73=12.0, Var125=0.0, Var126=-14.0, Var119=916.112185469, Var140=0.0, Var163=0.0, Var144=11.72766522, Var78=0.0, Var13=0.0, Var109=60.8886602759, Var57=1.98825, Var85=0.0, Var173=0.0),\n",
       " Row(Var65=18.0, Var113=10714.84, Var112=56.0, Var153=644836.0, Var134=66046.0, Var133=150650.0, Var132=0.0, Var81=37423.5, Var123=0.0, Var74=224.0, Var28=200.0, Var24=4.0, Var25=64.0, Var38=0.0, Var21=64.0, Var44=0.0, Var7=7.0, Var6=1029.0, Var83=0.0, label=-1.0, Var160=2.0, Var22=80.0, Var143=0.0, Var35=0.0, Var181=0.0, Var76=784448.0, Var149=267162.0, Var73=82.0, Var125=15111.0, Var126=58.0, Var119=215.0, Var140=3255.0, Var163=0.0, Var144=9.0, Var78=0.0, Var13=3216.0, Var109=32.0, Var57=4.552446, Var85=0.0, Var173=0.0)]"
      ]
     },
     "execution_count": 28,
     "metadata": {},
     "output_type": "execute_result"
    }
   ],
   "source": [
    "imputed.take(5)"
   ]
  },
  {
   "cell_type": "markdown",
   "metadata": {},
   "source": [
    "## Convert to MLlib Datatypes\n",
    "* MLlib: LabeledPoint\n",
    "* `spark.ml`: Dataframe"
   ]
  },
  {
   "cell_type": "code",
   "execution_count": 29,
   "metadata": {
    "collapsed": true
   },
   "outputs": [],
   "source": [
    "from pyspark.mllib.regression import LabeledPoint\n",
    "from pyspark.mllib.linalg import Vectors\n",
    "\n",
    "def create_points(row):\n",
    "    label = 0.0 if row.label == -1.0 else 1.0\n",
    "    \n",
    "    f_dict = row.asDict()\n",
    "    f_dict.pop('label')\n",
    "    \n",
    "    # make sure the features are in the same order for each data point\n",
    "    features = [ x[1] for x in sorted(f_dict.items())]\n",
    "    \n",
    "    return LabeledPoint(label, Vectors.dense(features))"
   ]
  },
  {
   "cell_type": "code",
   "execution_count": 30,
   "metadata": {
    "collapsed": true
   },
   "outputs": [],
   "source": [
    "feature_rdd = imputed.rdd.map(create_points)"
   ]
  },
  {
   "cell_type": "code",
   "execution_count": 31,
   "metadata": {
    "collapsed": false
   },
   "outputs": [
    {
     "data": {
      "text/plain": [
       "LabeledPoint(0.0, [104.0,168.0,117625.6,1175.0,6.0,720.0,8.0,184.0,0.0,1212385.0,69134.0,185.0,0.0,9.0,397579.0,1812252.0,142.0,38418.0,0.0,0.0,464.0,580.0,14.0,128.0,166.56,0.0,3570.0,0.0,4.076907,1526.0,9.0,7.0,36.0,35.0,1350864.0,0.0,7333.11,5.0,12.0])"
      ]
     },
     "execution_count": 31,
     "metadata": {},
     "output_type": "execute_result"
    }
   ],
   "source": [
    "feature_rdd.first()"
   ]
  },
  {
   "cell_type": "markdown",
   "metadata": {},
   "source": [
    "## Building a Model with MLlib\n",
    "\n",
    "* test/train split\n",
    "* preprocessing of features\n",
    "* training\n",
    "* evaluation"
   ]
  },
  {
   "cell_type": "code",
   "execution_count": 32,
   "metadata": {
    "collapsed": true
   },
   "outputs": [],
   "source": [
    "(train_set, test_set) = feature_rdd.randomSplit([0.8, 0.2])"
   ]
  },
  {
   "cell_type": "code",
   "execution_count": 33,
   "metadata": {
    "collapsed": true
   },
   "outputs": [],
   "source": [
    "from pyspark.mllib.classification import LogisticRegressionWithLBFGS, LogisticRegressionModel"
   ]
  },
  {
   "cell_type": "code",
   "execution_count": 34,
   "metadata": {
    "collapsed": false
   },
   "outputs": [],
   "source": [
    "lrmodel = LogisticRegressionWithLBFGS.train(train_set)"
   ]
  },
  {
   "cell_type": "code",
   "execution_count": 35,
   "metadata": {
    "collapsed": false
   },
   "outputs": [
    {
     "data": {
      "text/plain": [
       "pyspark.mllib.classification.LogisticRegressionModel"
      ]
     },
     "execution_count": 35,
     "metadata": {},
     "output_type": "execute_result"
    }
   ],
   "source": [
    "type(lrmodel)"
   ]
  },
  {
   "cell_type": "code",
   "execution_count": 36,
   "metadata": {
    "collapsed": true
   },
   "outputs": [],
   "source": [
    "predictions = lrmodel.predict(test_set.map(lambda x: x.features))"
   ]
  },
  {
   "cell_type": "code",
   "execution_count": 37,
   "metadata": {
    "collapsed": true
   },
   "outputs": [],
   "source": [
    "scores_and_labels = predictions.zip(test_set.map(lambda x: x.label))"
   ]
  },
  {
   "cell_type": "code",
   "execution_count": 38,
   "metadata": {
    "collapsed": false
   },
   "outputs": [],
   "source": [
    "test_err = scores_and_labels.filter(lambda (p, v): v != p).count() / float(test_set.count())"
   ]
  },
  {
   "cell_type": "code",
   "execution_count": 39,
   "metadata": {
    "collapsed": false
   },
   "outputs": [
    {
     "name": "stdout",
     "output_type": "stream",
     "text": [
      "Test Error = 0.0773821364631\n",
      "Accuracy: 92.2617863537\n"
     ]
    }
   ],
   "source": [
    "print 'Test Error = ' + str(test_err)\n",
    "print \"Accuracy: \" + str((1.0 - test_err) * 100)"
   ]
  },
  {
   "cell_type": "code",
   "execution_count": 40,
   "metadata": {
    "collapsed": false
   },
   "outputs": [
    {
     "data": {
      "text/plain": [
       "[(0.0, 37039), (1.0, 2907)]"
      ]
     },
     "execution_count": 40,
     "metadata": {},
     "output_type": "execute_result"
    }
   ],
   "source": [
    "train_set.groupBy(lambda x: x.label).mapValues(lambda x: len(x)).collect()"
   ]
  },
  {
   "cell_type": "code",
   "execution_count": 41,
   "metadata": {
    "collapsed": false
   },
   "outputs": [
    {
     "data": {
      "text/plain": [
       "0.08004418460543686"
      ]
     },
     "execution_count": 41,
     "metadata": {},
     "output_type": "execute_result"
    }
   ],
   "source": [
    "2971 / float(37117)"
   ]
  },
  {
   "cell_type": "markdown",
   "metadata": {},
   "source": [
    "## Model Evaluation"
   ]
  },
  {
   "cell_type": "code",
   "execution_count": 42,
   "metadata": {
    "collapsed": false
   },
   "outputs": [
    {
     "name": "stdout",
     "output_type": "stream",
     "text": [
      "Populating the interactive namespace from numpy and matplotlib\n"
     ]
    }
   ],
   "source": [
    "from sklearn.metrics import classification_report\n",
    "from sklearn.metrics import confusion_matrix\n",
    "import matplotlib.pyplot as plt\n",
    "\n",
    "%pylab inline"
   ]
  },
  {
   "cell_type": "code",
   "execution_count": 43,
   "metadata": {
    "collapsed": false
   },
   "outputs": [
    {
     "data": {
      "text/plain": [
       "(weights=[-0.000573440103321,0.00027153527539,4.92166700961e-07,-1.36340753014e-05,-1.39969569402e-05,6.00025392036e-08,-0.0337561753727,1.91601306692e-05,-0.00607055384322,-2.06055116386e-08,-1.17046708854e-07,3.44943501257e-06,0.0649222835728,-0.013043144626,8.95194586702e-09,-1.76131602215e-08,-0.000417265358534,1.75779617913e-08,-0.0170142459708,-0.00724631433367,-0.000120079496378,1.23462912376e-05,-0.00391320810314,0.000401922811545,-0.00756802113985,-0.00447888246675,-2.51604738882e-08,-0.0138202890335,-0.0737179786081,1.26566495678e-05,-0.0123837204647,0.00712275822164,5.52724788092e-05,-1.03466870528e-05,-3.21265041211e-10,-0.0405041875314,-2.09495720522e-06,-0.000291517490204,0.00270145995009], intercept=0.0)"
      ]
     },
     "execution_count": 43,
     "metadata": {},
     "output_type": "execute_result"
    }
   ],
   "source": [
    "lrmodel"
   ]
  },
  {
   "cell_type": "code",
   "execution_count": 44,
   "metadata": {
    "collapsed": false
   },
   "outputs": [
    {
     "data": {
      "text/plain": [
       "DenseVector([-0.0006, 0.0003, 0.0, -0.0, -0.0, 0.0, -0.0338, 0.0, -0.0061, -0.0, -0.0, 0.0, 0.0649, -0.013, 0.0, -0.0, -0.0004, 0.0, -0.017, -0.0072, -0.0001, 0.0, -0.0039, 0.0004, -0.0076, -0.0045, -0.0, -0.0138, -0.0737, 0.0, -0.0124, 0.0071, 0.0001, -0.0, -0.0, -0.0405, -0.0, -0.0003, 0.0027])"
      ]
     },
     "execution_count": 44,
     "metadata": {},
     "output_type": "execute_result"
    }
   ],
   "source": [
    "lrmodel.weights"
   ]
  },
  {
   "cell_type": "code",
   "execution_count": 45,
   "metadata": {
    "collapsed": false
   },
   "outputs": [
    {
     "data": {
      "text/plain": [
       "0.5"
      ]
     },
     "execution_count": 45,
     "metadata": {},
     "output_type": "execute_result"
    }
   ],
   "source": [
    "lrmodel.threshold"
   ]
  },
  {
   "cell_type": "code",
   "execution_count": 46,
   "metadata": {
    "collapsed": true
   },
   "outputs": [],
   "source": [
    "lrmodel.clearThreshold()"
   ]
  },
  {
   "cell_type": "code",
   "execution_count": 47,
   "metadata": {
    "collapsed": true
   },
   "outputs": [],
   "source": [
    "lrmodel.threshold"
   ]
  },
  {
   "cell_type": "code",
   "execution_count": 48,
   "metadata": {
    "collapsed": false
   },
   "outputs": [
    {
     "data": {
      "text/plain": [
       "[0.10774174679968923,\n",
       " 0.016218991336040673,\n",
       " 0.17232673929508993,\n",
       " 0.03424143184711809,\n",
       " 0.054548622927502545,\n",
       " 0.11734345322199889,\n",
       " 0.17445255382820501,\n",
       " 0.14780086614278903,\n",
       " 0.007416738229005967,\n",
       " 0.10117309228908833,\n",
       " 0.11759976552394834,\n",
       " 0.02582705714409853,\n",
       " 0.06619832419496444,\n",
       " 0.046096400771087384,\n",
       " 0.07083667481349189,\n",
       " 0.025904529026136262,\n",
       " 0.0012388046748188842,\n",
       " 0.031840136253872976,\n",
       " 0.07576045988901611,\n",
       " 0.03228555447848915,\n",
       " 0.020023342514966836,\n",
       " 0.4480777460713189,\n",
       " 0.033565510362292425,\n",
       " 0.23925237838264596,\n",
       " 0.03612354173176688,\n",
       " 0.04291898113781928,\n",
       " 0.0867459874610687,\n",
       " 0.1401031995735476,\n",
       " 0.07178901777913832,\n",
       " 0.03993625642555073,\n",
       " 0.043310912708890544,\n",
       " 0.01477579841467171,\n",
       " 0.10609560299163331,\n",
       " 0.01471823969371571,\n",
       " 0.06806511637169647,\n",
       " 0.022489020043764435,\n",
       " 0.06467074000133816,\n",
       " 0.04327131879761095,\n",
       " 0.07413271362708809,\n",
       " 0.30545182748087224,\n",
       " 0.0703230942278116,\n",
       " 0.060607788564793416,\n",
       " 0.2946017697800426,\n",
       " 0.0062540803388741115,\n",
       " 0.03121353660102567,\n",
       " 0.010813288324984878,\n",
       " 0.01954209368701615,\n",
       " 0.18576550076944465,\n",
       " 0.019003259138153292,\n",
       " 0.10415626148258955,\n",
       " 0.04566735611585993,\n",
       " 0.027320247728918765,\n",
       " 0.02088949998347399,\n",
       " 0.02036359643179458,\n",
       " 0.18163081253714752,\n",
       " 0.0952831943313234,\n",
       " 0.20904856894023185,\n",
       " 0.044707700588490884,\n",
       " 0.1284900735141519,\n",
       " 0.05765534796387389,\n",
       " 0.06948004177068597,\n",
       " 0.09047295622854822,\n",
       " 0.0889802753342931,\n",
       " 0.08439470854828748,\n",
       " 0.16476666134938756,\n",
       " 0.06577423721338799,\n",
       " 0.07942156153813143,\n",
       " 0.09578223451335635,\n",
       " 0.03253285281616956,\n",
       " 0.05604544644388006,\n",
       " 0.06462427170382523,\n",
       " 0.11549553540967233,\n",
       " 0.012391833012158536,\n",
       " 0.012618959533142302,\n",
       " 0.022954039731026124,\n",
       " 0.10154334740479973,\n",
       " 0.06564035264487983,\n",
       " 0.019899354180014373,\n",
       " 0.043230061535330454,\n",
       " 0.10241068714921814,\n",
       " 0.021677192352408847,\n",
       " 0.01174599016335525,\n",
       " 0.12182635864606267,\n",
       " 0.09317043249506474,\n",
       " 0.042257070635299765,\n",
       " 0.13766818053491306,\n",
       " 0.01991104111992192,\n",
       " 0.043011485090751964,\n",
       " 0.005666326239133916,\n",
       " 0.07127835177490052,\n",
       " 0.04966034713868294,\n",
       " 0.03221776552669212,\n",
       " 0.015192994194698963,\n",
       " 0.030550903798437008,\n",
       " 0.08851192699019948,\n",
       " 0.06110355007654552,\n",
       " 0.17969051193806485,\n",
       " 0.058552536474064935,\n",
       " 0.12725449647570264,\n",
       " 0.05917677060733096,\n",
       " 0.034665590974195165,\n",
       " 0.04485790776665412,\n",
       " 0.06897322245407488,\n",
       " 0.05248879145396179,\n",
       " 0.0680167132950926,\n",
       " 0.036187416610146766,\n",
       " 0.25158024600347756,\n",
       " 0.04203284886481958,\n",
       " 0.43334642241877064,\n",
       " 0.0312436523227141,\n",
       " 0.0003291820133538752,\n",
       " 0.10474315420669993,\n",
       " 0.011948689443455764,\n",
       " 0.0057631864646685215,\n",
       " 0.15300443000492014,\n",
       " 0.06656886108921398,\n",
       " 0.06969241674330637,\n",
       " 0.09632900397679908,\n",
       " 0.11686769287729985,\n",
       " 0.018465931117468443,\n",
       " 0.016147375027450585,\n",
       " 0.12358059568036857,\n",
       " 0.05934733178293837,\n",
       " 0.052041296964705754,\n",
       " 0.11981269564196001,\n",
       " 0.05677129950203057,\n",
       " 0.14943836871665975,\n",
       " 0.15318759738489637,\n",
       " 0.10614089925618335,\n",
       " 0.14987328836118105,\n",
       " 0.04778538395345786,\n",
       " 0.08707337136389684,\n",
       " 0.04134881725349381,\n",
       " 0.11483819761413945,\n",
       " 0.06268089783967921,\n",
       " 0.03693372427995603,\n",
       " 0.12187385605432663,\n",
       " 0.19512741685014723,\n",
       " 0.02549614891885339,\n",
       " 0.01636682683360797,\n",
       " 0.11302281010578691,\n",
       " 0.007423823899844775,\n",
       " 0.19757464777741504,\n",
       " 0.10245769980783268,\n",
       " 0.03711129547649885,\n",
       " 0.03282835468266463,\n",
       " 0.04326830863417754,\n",
       " 0.03854830304885268,\n",
       " 0.10181139069511683,\n",
       " 0.014480173742973133,\n",
       " 0.04941140024079482,\n",
       " 0.079857545560848,\n",
       " 0.061222293712107,\n",
       " 0.07627470076266578,\n",
       " 0.05400240676235792,\n",
       " 0.06866072238602847,\n",
       " 0.1064612006273841,\n",
       " 0.1034003586804362,\n",
       " 0.013524072280671883,\n",
       " 0.08439513761861177,\n",
       " 0.07808780408396222,\n",
       " 0.01833082457147249,\n",
       " 0.04326325885556276,\n",
       " 0.03237886662069371,\n",
       " 0.16140726614181322,\n",
       " 0.18684964348379637,\n",
       " 0.04233087855180256,\n",
       " 0.03685383283534628,\n",
       " 0.09259483660460871,\n",
       " 0.03512310164038483,\n",
       " 0.030245319731751846,\n",
       " 0.03730080555390815,\n",
       " 0.06371591334132584,\n",
       " 0.08216284186233863,\n",
       " 0.08535343024974781,\n",
       " 0.03691815063574965,\n",
       " 0.15661263297856956,\n",
       " 0.07760258175390704,\n",
       " 0.04997442574822834,\n",
       " 0.055639969066954266,\n",
       " 0.09382450300294687,\n",
       " 0.04534044171618019,\n",
       " 0.06392478155132042,\n",
       " 0.05008322387779222,\n",
       " 0.11008909073085808,\n",
       " 0.02368816518890868,\n",
       " 0.1417306278451952,\n",
       " 0.07569062195800692,\n",
       " 0.02654647024519502,\n",
       " 0.10801423731209649,\n",
       " 0.011455308031295132,\n",
       " 0.012684311920570627,\n",
       " 0.28697907830582914,\n",
       " 0.04961887242908668,\n",
       " 0.04167580004725822,\n",
       " 0.10049350333910437,\n",
       " 0.02677504078941047,\n",
       " 0.056240388956473285,\n",
       " 0.04608365254310088,\n",
       " 0.029257495343244094,\n",
       " 0.08264364580990284,\n",
       " 0.11261074639869348,\n",
       " 0.0826285362189191,\n",
       " 0.05744131296265975,\n",
       " 0.02112592829702271,\n",
       " 0.021322423133371862,\n",
       " 0.02518974223954956,\n",
       " 0.11442571253027883,\n",
       " 0.04443432997410871,\n",
       " 0.055892798934995984,\n",
       " 0.09210821108198461,\n",
       " 0.0594673485044949,\n",
       " 0.026345974248835273,\n",
       " 0.08777154200588878,\n",
       " 0.07941967858516427,\n",
       " 0.13519025908962984,\n",
       " 0.024100669970192327,\n",
       " 0.028176499677601025,\n",
       " 0.052177005192331774,\n",
       " 0.23934253696297525,\n",
       " 0.05234528464758732,\n",
       " 0.03469988240690718,\n",
       " 0.14552541816300424,\n",
       " 0.04514406067074793,\n",
       " 0.07793160482580223,\n",
       " 0.0901732064024441,\n",
       " 0.05171824320145276,\n",
       " 0.10447178853188024,\n",
       " 0.10485843998207742,\n",
       " 0.09550719418109559,\n",
       " 0.16404677806780396,\n",
       " 0.08713868154960276,\n",
       " 0.05588127491672539,\n",
       " 0.07059641804423764,\n",
       " 0.06657039931643398,\n",
       " 0.02783090308028681,\n",
       " 0.06670533711360345,\n",
       " 0.07665670396781973,\n",
       " 0.09728821962613085,\n",
       " 0.05856619877325468,\n",
       " 0.03864977389091644,\n",
       " 0.0037610045521943676,\n",
       " 0.020181943851555435,\n",
       " 0.12844629521555256,\n",
       " 0.02474209333384463,\n",
       " 0.10950493408470574,\n",
       " 0.058705920640418366,\n",
       " 0.06979818358648912,\n",
       " 0.05317412012768782,\n",
       " 0.06242849475114786,\n",
       " 0.10196271831061954,\n",
       " 0.149480761588576,\n",
       " 0.16485286958302012,\n",
       " 0.017580933071640974,\n",
       " 0.05759115755235167,\n",
       " 0.02260263550168413,\n",
       " 0.14739281045973412,\n",
       " 0.1020246025289867,\n",
       " 0.09134622669389922,\n",
       " 0.06798315108682275,\n",
       " 0.014575698735946897,\n",
       " 0.11899347110945419,\n",
       " 0.05380688261821893,\n",
       " 0.08046940450354002,\n",
       " 0.20418400707536832,\n",
       " 0.04478400156517699,\n",
       " 0.21391021743152253,\n",
       " 0.08874581582090603,\n",
       " 0.07187907286136465,\n",
       " 0.055226463640131264,\n",
       " 0.05914652666778114,\n",
       " 0.038660697577811744,\n",
       " 0.1283215417339723,\n",
       " 0.04266817842064381,\n",
       " 0.04264956533499402,\n",
       " 0.041795505696903955,\n",
       " 0.08086674035793527,\n",
       " 0.0875561148703423,\n",
       " 0.12439783413530552,\n",
       " 0.09523799241385696,\n",
       " 0.011306596782443749,\n",
       " 0.08929135297776451,\n",
       " 0.042215396902547934,\n",
       " 0.20555705231880436,\n",
       " 0.03681912988561179,\n",
       " 0.11643646953899511,\n",
       " 0.16376357638649422,\n",
       " 0.04693653668835548,\n",
       " 0.06632810008093187,\n",
       " 0.06732056271581054,\n",
       " 0.16786821730083923,\n",
       " 0.07543139626916572,\n",
       " 0.08343583262024702,\n",
       " 0.045767442692986784,\n",
       " 0.06964526614340404,\n",
       " 0.11808342529540194,\n",
       " 0.03528156052892072,\n",
       " 0.1852604632655488,\n",
       " 0.010513930102193194,\n",
       " 0.06820466915880702,\n",
       " 0.04609922200588672,\n",
       " 0.041750639867590714,\n",
       " 0.038960098333843465,\n",
       " 0.08054535234260213,\n",
       " 0.11953377234541886,\n",
       " 0.09178808039066509,\n",
       " 0.1351176718803896,\n",
       " 0.11298039207403772,\n",
       " 0.05427971348942702,\n",
       " 0.058896014338286506,\n",
       " 0.045481146483341416,\n",
       " 0.03185087191254831,\n",
       " 0.14171514607748417,\n",
       " 0.010829035358721357,\n",
       " 0.19422634164716687,\n",
       " 0.03751208796807978,\n",
       " 0.06505917601129521,\n",
       " 0.04931763848480393,\n",
       " 0.0024640805133511363,\n",
       " 0.05995503171845001,\n",
       " 0.04603480402761096,\n",
       " 0.10133361797852047,\n",
       " 0.06854827947717687,\n",
       " 0.13090784734024874,\n",
       " 0.06876546783242368,\n",
       " 0.0882242781674475,\n",
       " 0.03780221947326492,\n",
       " 0.049947646681739066,\n",
       " 0.17709792180117076,\n",
       " 0.0545117079444125,\n",
       " 0.09819712107968301,\n",
       " 0.018241891849865643,\n",
       " 0.020627832950106992,\n",
       " 0.051935404656118754,\n",
       " 0.1219184848693664,\n",
       " 0.059380020261961326,\n",
       " 0.03710958554867159,\n",
       " 0.354379836546472,\n",
       " 0.1220153251181271,\n",
       " 0.14054720786969424,\n",
       " 0.05874060760862115,\n",
       " 0.1176962230360608,\n",
       " 0.0515806865049033,\n",
       " 0.049820814331611556,\n",
       " 0.10506359371000158,\n",
       " 0.03626650507910029,\n",
       " 0.03476009140540353,\n",
       " 0.021621882262896696,\n",
       " 0.10378860560682573,\n",
       " 0.09704605183776868,\n",
       " 0.1032667697395646,\n",
       " 0.06436147674707585,\n",
       " 0.06469556499653978,\n",
       " 0.025090344635043536,\n",
       " 0.0461188958704596,\n",
       " 0.07089030957668785,\n",
       " 0.0928240876182239,\n",
       " 0.052008818406150646,\n",
       " 0.06632452997087619,\n",
       " 0.07106991258797753,\n",
       " 0.062206178065172146,\n",
       " 0.18885645564710563,\n",
       " 0.04243542016262354,\n",
       " 0.1436927713560711,\n",
       " 0.06885184186250902,\n",
       " 0.07080188714818261,\n",
       " 0.06597491395858958,\n",
       " 0.06774762062711315,\n",
       " 0.01330898538935408,\n",
       " 0.13840037901446553,\n",
       " 0.08278574290413634,\n",
       " 0.07781836099164467,\n",
       " 0.05600814651793026,\n",
       " 0.14199979248279315,\n",
       " 0.20987518475362266,\n",
       " 0.006669257473990879,\n",
       " 0.024251217122006796,\n",
       " 0.05027217297302213,\n",
       " 0.06545629937993856,\n",
       " 0.029782235367698102,\n",
       " 0.06431666587193437,\n",
       " 0.05594271016970452,\n",
       " 0.031400681839072256,\n",
       " 0.12694449575011427,\n",
       " 0.04572408449257294,\n",
       " 0.2323819798601482,\n",
       " 0.00013075236249334655,\n",
       " 0.03447009229544777,\n",
       " 0.08224542606567622,\n",
       " 0.006596127796785262,\n",
       " 0.023255496226128238,\n",
       " 0.30335382653684073,\n",
       " 0.07284319405098513,\n",
       " 0.06906846852633491,\n",
       " 0.17023814466700654,\n",
       " 0.030925762604381662,\n",
       " 0.18406852477008834,\n",
       " 0.019777500130507723,\n",
       " 0.13661081244500659,\n",
       " 0.05516826319307715,\n",
       " 0.05962113917659166,\n",
       " 0.16648516171708333,\n",
       " 0.016188637035418722,\n",
       " 0.16899553043557322,\n",
       " 0.1374596289873913,\n",
       " 0.12334108849288405,\n",
       " 0.03605751759096101,\n",
       " 0.008499417336670319,\n",
       " 0.0102584977012195,\n",
       " 0.1255169010146022,\n",
       " 0.11204299138856504,\n",
       " 0.1656942775879732,\n",
       " 0.19362717799951176,\n",
       " 0.20162318380569552,\n",
       " 0.055298702700950955,\n",
       " 0.08281327808754947,\n",
       " 0.03788667094283396,\n",
       " 0.05540462306568068,\n",
       " 0.060515433854084665,\n",
       " 0.07454491908214865,\n",
       " 0.12621688693028962,\n",
       " 0.13017089876694585,\n",
       " 0.0696688501027885,\n",
       " 0.03179619348727521,\n",
       " 0.01044245021896016,\n",
       " 0.0631069245907608,\n",
       " 0.0985841052412939,\n",
       " 0.00637904164190563,\n",
       " 0.13725920854192958,\n",
       " 0.1180232422418211,\n",
       " 0.2971060149935985,\n",
       " 0.0529563130817631,\n",
       " 0.012332855426281512,\n",
       " 0.02965238102179647,\n",
       " 0.10508385231678985,\n",
       " 0.014817584815017854,\n",
       " 0.07857426539110597,\n",
       " 0.052017146971661855,\n",
       " 0.03383281236356536,\n",
       " 0.019506276745297042,\n",
       " 0.053596205267210185,\n",
       " 0.27990025379561195,\n",
       " 0.040514096460671,\n",
       " 0.12400917987681816,\n",
       " 0.04480003117064839,\n",
       " 0.031467553279896476,\n",
       " 0.033762438777968466,\n",
       " 0.06306217068185595,\n",
       " 0.01749845048265114,\n",
       " 0.07063639344984797,\n",
       " 0.10863192342528244,\n",
       " 0.021091646094841758,\n",
       " 0.11943038189528292,\n",
       " 0.03021432509381264,\n",
       " 0.037427848737774036,\n",
       " 0.040652021164714704,\n",
       " 0.12029877001051692,\n",
       " 0.03861205101677355,\n",
       " 0.08142590519954325,\n",
       " 0.029126397648906937,\n",
       " 0.026763454305444224,\n",
       " 0.012149344301971902,\n",
       " 0.03688618723074799,\n",
       " 0.09194913397638546,\n",
       " 0.02959485199184591,\n",
       " 0.1383748588865879,\n",
       " 0.04037816896654422,\n",
       " 0.04791512728454461,\n",
       " 0.12770025546267397,\n",
       " 0.09518527778585882,\n",
       " 0.12160318722736502,\n",
       " 0.025982890469013104,\n",
       " 0.11428873658365934,\n",
       " 0.025721387975461814,\n",
       " 0.05863087893037008,\n",
       " 1.8773680707378702e-07,\n",
       " 0.06812817937727363,\n",
       " 0.055165785147164234,\n",
       " 0.020396504252763268,\n",
       " 0.03592832174711034,\n",
       " 0.019145735909318246,\n",
       " 0.05206560286865547,\n",
       " 0.06477804880626696,\n",
       " 0.04521634005600504,\n",
       " 0.053686303931323405,\n",
       " 0.09520206838705228,\n",
       " 0.08181162021226358,\n",
       " 0.06408130961022274,\n",
       " 0.08040576685233275,\n",
       " 0.10473670413763644,\n",
       " 0.2691427039573804,\n",
       " 0.04402638360119518,\n",
       " 0.07226915749617446,\n",
       " 0.08470464258922393,\n",
       " 0.09801984199273811,\n",
       " 0.20370961798627238,\n",
       " 0.011281279185668578,\n",
       " 0.021927633721737273,\n",
       " 0.09158332614452068,\n",
       " 0.042548393146506214,\n",
       " 0.17728219037409568,\n",
       " 0.049514725106367535,\n",
       " 0.18361243940276029,\n",
       " 0.2672175551253171,\n",
       " 0.01557550164240275,\n",
       " 0.048138491095745216,\n",
       " 0.14811653585403048,\n",
       " 0.05377057734043587,\n",
       " 0.029134426701354632,\n",
       " 0.12294382346403177,\n",
       " 0.09097680928149449,\n",
       " 0.038760922038828825,\n",
       " 0.05418113445626592,\n",
       " 0.06230892126243547,\n",
       " 0.08173893062033136,\n",
       " 0.1788821192467597,\n",
       " 0.14923245674554989,\n",
       " 0.06807209338064862,\n",
       " 0.03522684884150419,\n",
       " 0.028785378324657343,\n",
       " 0.060089918676918395,\n",
       " 0.00215541040716432,\n",
       " 0.052120668702161733,\n",
       " 0.12400171769282298,\n",
       " 0.0730389462704558,\n",
       " 0.20340537356728136,\n",
       " 0.06658008597994451,\n",
       " 0.03404275153426902,\n",
       " 0.015226182826858921,\n",
       " 0.02157219099013518,\n",
       " 0.10333597231316534,\n",
       " 0.05075301870320621,\n",
       " 0.04584641830958432,\n",
       " 0.06745610271576849,\n",
       " 0.0237633105630907,\n",
       " 0.1883285231808376,\n",
       " 0.11353055205109619,\n",
       " 0.01681433328578664,\n",
       " 0.03505827732030693,\n",
       " 0.06688966891332344,\n",
       " 0.04569304656457459,\n",
       " 0.049086065410402974,\n",
       " 0.0021140575156118257,\n",
       " 0.02152788499589006,\n",
       " 0.04716989474188665,\n",
       " 0.03269643413024525,\n",
       " 0.33951506138748866,\n",
       " 0.1843644300081158,\n",
       " 0.03799068852674619,\n",
       " 0.15584157726979037,\n",
       " 0.047459607613819545,\n",
       " 0.10940333552812895,\n",
       " 0.018689219128275206,\n",
       " 0.05207825965905318,\n",
       " 0.061123603109071556,\n",
       " 0.02230312413836564,\n",
       " 0.01537046305102924,\n",
       " 0.1008628176114525,\n",
       " 0.07720609753731261,\n",
       " 0.0871678357833013,\n",
       " 0.17246832373415402,\n",
       " 0.15626533035011492,\n",
       " 0.12155600899668877,\n",
       " 0.17715106041657092,\n",
       " 0.01915942895299378,\n",
       " 0.025675173912061977,\n",
       " 0.13885240895024378,\n",
       " 0.18539045958935624,\n",
       " 0.0579103816241744,\n",
       " 0.20754457514133207,\n",
       " 0.01833079136276197,\n",
       " 0.0803561014871713,\n",
       " 0.047513330509224364,\n",
       " 0.08464363119124212,\n",
       " 0.10589843161155672,\n",
       " 0.038894606893888635,\n",
       " 0.015467327248703876,\n",
       " 0.11830357164317559,\n",
       " 0.13361324674211605,\n",
       " 0.02226714275745219,\n",
       " 0.11484812151628583,\n",
       " 0.024338210745661122,\n",
       " 0.03648459678512639,\n",
       " 0.03233380634698643,\n",
       " 0.18034693417332445,\n",
       " 0.03437354167881261,\n",
       " 0.04710835817827743,\n",
       " 0.058131094666824944,\n",
       " 0.08935672706591767,\n",
       " 0.09849507889334205,\n",
       " 0.044177886393929194,\n",
       " 0.06747055715259162,\n",
       " 0.007843153503465105,\n",
       " 0.04087801732159959,\n",
       " 0.03498429708412485,\n",
       " 0.03055584580499494,\n",
       " 0.035481209955489396,\n",
       " 0.25961127659727967,\n",
       " 0.32631712084637776,\n",
       " 0.020803476248066846,\n",
       " 0.047045540327652714,\n",
       " 0.2139667461838522,\n",
       " 0.09615698632127483,\n",
       " 0.0011431274337713245,\n",
       " 0.14674839187342717,\n",
       " 0.10772265267562639,\n",
       " 0.045847791589040315,\n",
       " 0.1964835661899081,\n",
       " 0.09430323504244642,\n",
       " 0.030013370573531258,\n",
       " 0.005398622335222398,\n",
       " 0.030381520591295293,\n",
       " 0.009796249185084333,\n",
       " 0.008808977728148494,\n",
       " 0.09219338469844929,\n",
       " 0.05112615108267408,\n",
       " 0.08170419395040071,\n",
       " 0.05667894537693977,\n",
       " 0.03756315298770803,\n",
       " 0.044468624809898785,\n",
       " 0.013130409847193962,\n",
       " 0.07070233467254491,\n",
       " 0.048942677776328464,\n",
       " 0.07100717415134841,\n",
       " 0.016670749386677917,\n",
       " 0.03900919858597911,\n",
       " 0.11714017196802566,\n",
       " 0.07054152713042385,\n",
       " 0.19944888182882184,\n",
       " 0.06414894779778411,\n",
       " 0.021207296961183248,\n",
       " 0.101189717736818,\n",
       " 0.04516972200799712,\n",
       " 0.057434058315837054,\n",
       " 0.01391776132527945,\n",
       " 0.09342095702238144,\n",
       " 0.10959358298846131,\n",
       " 0.06136374790663974,\n",
       " 0.047967489493136097,\n",
       " 0.06229602816217417,\n",
       " 0.019250233521512967,\n",
       " 0.09807750456642829,\n",
       " 0.02417340861682181,\n",
       " 0.07249059246559941,\n",
       " 0.16575680260637013,\n",
       " 0.038777394553862206,\n",
       " 0.05368828679836972,\n",
       " 0.016665449671807817,\n",
       " 0.047442503482698725,\n",
       " 0.1724064700856935,\n",
       " 0.04005124192386385,\n",
       " 0.17947506800908417,\n",
       " 0.06083216034410374,\n",
       " 0.030990253688959316,\n",
       " 0.038836201114994445,\n",
       " 0.022965488949471403,\n",
       " 0.041871710718833936,\n",
       " 0.04206694993901114,\n",
       " 0.09231133690047033,\n",
       " 0.051646240528707324,\n",
       " 0.08562623253219337,\n",
       " 0.04679437409144144,\n",
       " 0.004340828827349629,\n",
       " 0.049423644627071835,\n",
       " 0.025816939324911577,\n",
       " 0.014137757493977915,\n",
       " 0.04497520393835546,\n",
       " 0.03416447750228881,\n",
       " 0.5111187483433824,\n",
       " 0.06848058872542534,\n",
       " 0.14848927591866037,\n",
       " 0.07573475386030466,\n",
       " 0.03917311398099917,\n",
       " 0.026156702801479935,\n",
       " 0.04262445777154587,\n",
       " 0.28958259314530804,\n",
       " 0.12244078035681967,\n",
       " 0.022084756148949607,\n",
       " 0.015021754452334125,\n",
       " 0.19884789159849336,\n",
       " 0.07468922802862353,\n",
       " 0.046484186019727855,\n",
       " 0.0199759301020299,\n",
       " 0.0868209002941518,\n",
       " 0.04401819409225444,\n",
       " 0.03969699780345892,\n",
       " 0.04183452243215846,\n",
       " 0.050772320606285594,\n",
       " 0.023369054421272257,\n",
       " 0.03976517445151053,\n",
       " 0.12924015037122757,\n",
       " 0.05080847071926857,\n",
       " 0.1313857315535587,\n",
       " 0.1376229530478801,\n",
       " 0.08217489342949238,\n",
       " 0.052496710636772886,\n",
       " 0.07529319539192737,\n",
       " 0.04232668463692176,\n",
       " 0.033027060998640966,\n",
       " 0.0297473188088524,\n",
       " 0.16120977891867344,\n",
       " 0.03865827115962916,\n",
       " 0.10700136205105044,\n",
       " 0.0628085164237875,\n",
       " 0.030820903415935755,\n",
       " 0.011673261815316197,\n",
       " 0.12551931260637303,\n",
       " 0.01922844532332952,\n",
       " 0.21454139058598967,\n",
       " 0.01971196532292925,\n",
       " 0.02679898206681635,\n",
       " 0.01155346168103329,\n",
       " 0.1302786949937344,\n",
       " 0.04617582342829073,\n",
       " 0.05144446103495415,\n",
       " 0.031090812389223406,\n",
       " 0.29850455617732596,\n",
       " 0.0922351126078002,\n",
       " 0.045243785075502245,\n",
       " 0.04879571259330408,\n",
       " 0.018636495573344368,\n",
       " 0.07455079324238148,\n",
       " 0.16980220897421477,\n",
       " 0.02254457049954421,\n",
       " 0.0027537551582995554,\n",
       " 0.24197637262788801,\n",
       " 0.10599956576251264,\n",
       " 0.0761188779873313,\n",
       " 0.07907997329819987,\n",
       " 0.1535493563847929,\n",
       " 0.015333395428578155,\n",
       " 0.01604007220781353,\n",
       " 0.11309264647628682,\n",
       " 0.02775268973400405,\n",
       " 0.1077093645098977,\n",
       " 0.02478662267129504,\n",
       " 0.0426342316423595,\n",
       " 0.11463497160192268,\n",
       " 0.04858008718230895,\n",
       " 0.16608648268995868,\n",
       " 0.031770315330455025,\n",
       " 0.05948152194698687,\n",
       " 0.32662549519471407,\n",
       " 0.08846320867152806,\n",
       " 0.331690111678013,\n",
       " 0.024967327868392616,\n",
       " 0.01917995568047419,\n",
       " 0.16847042970906398,\n",
       " 0.05428433921928461,\n",
       " 0.0076231250924436635,\n",
       " 0.004260502388239342,\n",
       " 0.040610645228403644,\n",
       " 0.07446832854611829,\n",
       " 0.06577259465846995,\n",
       " 0.04131639686334159,\n",
       " 0.0496421752168733,\n",
       " 0.06017431290763472,\n",
       " 0.06398216870331891,\n",
       " 0.03688725247950794,\n",
       " 0.021933856460234023,\n",
       " 0.021292680625893807,\n",
       " 0.05699556500485551,\n",
       " 0.02281049321385649,\n",
       " 0.03068011967268028,\n",
       " 0.014494359763430227,\n",
       " 0.0312697193086119,\n",
       " 0.044229846339976404,\n",
       " 0.028224099334583346,\n",
       " 0.037945977627111174,\n",
       " 0.0406619116671755,\n",
       " 0.055548490654034846,\n",
       " 0.03580054168762627,\n",
       " 0.015222393250438938,\n",
       " 0.02030347843999661,\n",
       " 0.03709837250680535,\n",
       " 0.058153072694528074,\n",
       " 0.06324592047658355,\n",
       " 0.029687496911755467,\n",
       " 0.0006946201047485843,\n",
       " 0.19179516132082097,\n",
       " 0.06274218992050104,\n",
       " 0.2832640524850018,\n",
       " 0.03249148237054889,\n",
       " 0.016751138063373208,\n",
       " 0.0268724808574022,\n",
       " 0.03908959786499411,\n",
       " 0.10913954014275593,\n",
       " 0.12454461750573252,\n",
       " 0.02791923061609173,\n",
       " 0.05456645294901273,\n",
       " 0.025233585752071755,\n",
       " 0.06496381543875857,\n",
       " 0.07395159877360116,\n",
       " 0.0507529937630301,\n",
       " 0.08445405917994396,\n",
       " 0.029070470720859973,\n",
       " 0.14044996513814045,\n",
       " 0.3033645025982875,\n",
       " 0.0521025905289028,\n",
       " 0.06208236537957225,\n",
       " 0.03660369790362627,\n",
       " 0.03728413021664692,\n",
       " 0.06508203426605642,\n",
       " 0.020283328922062208,\n",
       " 0.08363878180844277,\n",
       " 0.03312120241979076,\n",
       " 0.13930288415109804,\n",
       " 0.03684113765875668,\n",
       " 0.06778693071967923,\n",
       " 0.04811401909183672,\n",
       " 0.008900661904951125,\n",
       " 0.12019750465338365,\n",
       " 0.03866728953286576,\n",
       " 0.045206962562353195,\n",
       " 0.09496874827215283,\n",
       " 0.17618249553563836,\n",
       " 0.07076001086441407,\n",
       " 0.1723156336049605,\n",
       " 0.04034576966165721,\n",
       " 0.043475944867310934,\n",
       " 0.043781903849281885,\n",
       " 0.12601082325943044,\n",
       " 0.11366997152028845,\n",
       " 0.11284237683128182,\n",
       " 0.07576309587222878,\n",
       " 0.17122665813649984,\n",
       " 0.10945603341069235,\n",
       " 0.19075628464624242,\n",
       " 0.046190990817730676,\n",
       " 0.027827436174663274,\n",
       " 0.04490656112383939,\n",
       " 0.005569829133982454,\n",
       " 0.02816517680095596,\n",
       " 0.013774905030942471,\n",
       " 0.0522387920578276,\n",
       " 0.03527530100492566,\n",
       " 0.011974362805394228,\n",
       " 0.07473232699845025,\n",
       " 0.054295079243805576,\n",
       " 0.12125647195287828,\n",
       " 0.024425817951698753,\n",
       " 0.0567532766192717,\n",
       " 0.14310745776284547,\n",
       " 0.08309927597191187,\n",
       " 0.14230014174264252,\n",
       " 0.044457415249531985,\n",
       " 0.17042369366843943,\n",
       " 0.049259101102330616,\n",
       " 0.1269570005677744,\n",
       " 0.045826891404634,\n",
       " 0.03044978424350864,\n",
       " 0.21318874217944922,\n",
       " 0.22279880593179419,\n",
       " 0.06439026728249982,\n",
       " 0.030303916420788297,\n",
       " 0.10704757060867379,\n",
       " 0.020729723061808595,\n",
       " 0.02565704651632342,\n",
       " 0.04091990766439897,\n",
       " 0.01618274669190153,\n",
       " 0.012205109414802701,\n",
       " 0.0524991265242983,\n",
       " 0.01042753177231234,\n",
       " 0.07000417813982844,\n",
       " 0.03303655686930559,\n",
       " 0.33022708486708585,\n",
       " 0.07532681040911603,\n",
       " 0.009078673668567329,\n",
       " 0.02269869702747828,\n",
       " 0.12949178345158222,\n",
       " 0.2496011227182911,\n",
       " 0.07279690766816908,\n",
       " 0.06109088670883436,\n",
       " 0.08727162638550519,\n",
       " 0.0738834239063817,\n",
       " 0.14839738604324357,\n",
       " 0.031907357523748646,\n",
       " 0.0017624187994181913,\n",
       " 0.06370163957964373,\n",
       " 0.052997166244711506,\n",
       " 0.06124381898424883,\n",
       " 0.07781175784229234,\n",
       " 0.00867548062143805,\n",
       " 0.02158276705690799,\n",
       " 0.05151334908784168,\n",
       " 0.019589633930704616,\n",
       " 0.054936476704135755,\n",
       " 0.09192403719112639,\n",
       " 0.09138879621820889,\n",
       " 0.0223367392506835,\n",
       " 0.03346937895600999,\n",
       " 0.08190702943189358,\n",
       " 0.0805428373776087,\n",
       " 0.11017273471559147,\n",
       " 0.060836713703945944,\n",
       " 0.21946298358977082,\n",
       " 0.04817912487657683,\n",
       " 0.13906421709443864,\n",
       " 0.2949516372345125,\n",
       " 0.17539370522368708,\n",
       " 0.058516088065357616,\n",
       " 0.1296694765119584,\n",
       " 0.057051201764461455,\n",
       " 0.047391315546135425,\n",
       " 0.023611122552791013,\n",
       " 0.058512595336041855,\n",
       " 0.08607333254984752,\n",
       " 0.1438667956566397,\n",
       " 0.04267986517434315,\n",
       " 0.18149711239775695,\n",
       " 0.08109819015420124,\n",
       " 0.04127789880983361,\n",
       " 0.07088434715941587,\n",
       " 0.044160763806075316,\n",
       " 0.36001068390838503,\n",
       " 0.09365682921458467,\n",
       " 0.07891792163517793,\n",
       " 0.1713869129303154,\n",
       " 0.005863128673551513,\n",
       " 0.097622706213451,\n",
       " 0.09943145832736548,\n",
       " 0.02052584698686147,\n",
       " 0.22182288901161126,\n",
       " 0.048809249365818666,\n",
       " 0.03524592790951608,\n",
       " 0.04892021113571148,\n",
       " 0.008991561852396421,\n",
       " 0.06245042561583049,\n",
       " 0.03544394019111126,\n",
       " 0.05719670095667936,\n",
       " 0.006292845137176821,\n",
       " 0.2929896428375712,\n",
       " 0.010663410416475593,\n",
       " 0.06215577120019448,\n",
       " 0.1656781852688869,\n",
       " 0.011303502618998278,\n",
       " 0.09169575321716886,\n",
       " 0.019122161010266578,\n",
       " 0.1361030018434609,\n",
       " 0.12372803687449362,\n",
       " 0.04822109334020985,\n",
       " 0.0729181705147605,\n",
       " 0.017836532518881044,\n",
       " 0.05620099048704851,\n",
       " 0.00827514507949957,\n",
       " 0.11073656877510385,\n",
       " 0.08641036804724417,\n",
       " 0.061789425617267954,\n",
       " 0.05205376517414245,\n",
       " 0.04216148571908571,\n",
       " 0.21274864314315597,\n",
       " 0.037842388034871215,\n",
       " 0.302596592043492,\n",
       " 0.1457359462595776,\n",
       " 0.06787383154648478,\n",
       " 0.05437103716083565,\n",
       " 0.05165179337774693,\n",
       " 0.01920473761230926,\n",
       " 0.06802219942456184,\n",
       " 0.04680984212383751,\n",
       " 0.022117012336599958,\n",
       " 0.06409830045654168,\n",
       " 0.049143775248769415,\n",
       " 0.09374553556946039,\n",
       " 0.1441696749713501,\n",
       " 0.045987594023136326,\n",
       " 0.023107231733153075,\n",
       " 0.019900959813943974,\n",
       " 0.04818598396475466,\n",
       " 0.3512210261486663,\n",
       " 0.03461219345184888,\n",
       " 0.05783504860021291,\n",
       " 0.04480694024818388,\n",
       " 0.03658065791102416,\n",
       " 0.10024453470266409,\n",
       " 0.033435111115829766,\n",
       " 0.1448817022543585,\n",
       " 0.10377930083910347,\n",
       " 0.06687171638805785,\n",
       " 0.12064457546853538,\n",
       " 0.00732350719423629,\n",
       " 0.1580994985094973,\n",
       " 0.013789449262554425,\n",
       " 0.11722294866361696,\n",
       " 0.2323037128628111,\n",
       " 0.01370134333307698,\n",
       " 0.037527441342384164,\n",
       " 0.0458887352505444,\n",
       " 0.12970024204636738,\n",
       " 0.0679047524470946,\n",
       " 0.01617186057705989,\n",
       " 0.1291866566717041,\n",
       " 0.1280840591832086,\n",
       " 0.2586396397301993,\n",
       " 0.03822231198725349,\n",
       " 0.009069009320788565,\n",
       " 0.014841131071347765,\n",
       " 0.07856408224476388,\n",
       " 0.09321041057308009,\n",
       " 0.04973809362714788,\n",
       " ...]"
      ]
     },
     "execution_count": 48,
     "metadata": {},
     "output_type": "execute_result"
    }
   ],
   "source": [
    "lrmodel.predict(test_set.map(lambda x: x.features)).collect()"
   ]
  },
  {
   "cell_type": "code",
   "execution_count": 52,
   "metadata": {
    "collapsed": true
   },
   "outputs": [],
   "source": [
    "y_true = np.array(scores_and_labels.map(lambda lp: lp[1]).collect())\n",
    "y_pred = np.array(scores_and_labels.map(lambda lp: lp[0]).collect())"
   ]
  },
  {
   "cell_type": "code",
   "execution_count": 53,
   "metadata": {
    "collapsed": false
   },
   "outputs": [
    {
     "name": "stdout",
     "output_type": "stream",
     "text": [
      "Test Error = 0.0773821364631\n",
      "Accuracy: 92.2617863537\n",
      "\n",
      "\n"
     ]
    }
   ],
   "source": [
    "test_err = (y_true != y_pred).sum() / float(len(y_pred))\n",
    "    \n",
    "print 'Test Error = ' + str(test_err)\n",
    "print \"Accuracy: \" + str((1.0 - test_err) * 100)\n",
    "print \"\\n\""
   ]
  },
  {
   "cell_type": "code",
   "execution_count": 54,
   "metadata": {
    "collapsed": true
   },
   "outputs": [],
   "source": [
    "def plot_confusion_matrix(cm, title='Confusion matrix', cmap=plt.cm.Blues):\n",
    "    plt.imshow(cm, interpolation='nearest', cmap=cmap)\n",
    "    plt.title(title)\n",
    "    plt.colorbar()\n",
    "    tick_marks = np.arange(2)\n",
    "    plt.xticks(tick_marks, ['no upsell', 'upsell'], rotation=45)\n",
    "    plt.yticks(tick_marks, ['no upsell', 'upsell'])\n",
    "    plt.tight_layout()\n",
    "    plt.ylabel('True label')\n",
    "    plt.xlabel('Predicted label')"
   ]
  },
  {
   "cell_type": "code",
   "execution_count": 55,
   "metadata": {
    "collapsed": false
   },
   "outputs": [
    {
     "name": "stdout",
     "output_type": "stream",
     "text": [
      "Confusion matrix, Logistic Regression\n",
      "[[9274    5]\n",
      " [ 773    2]]\n"
     ]
    },
    {
     "data": {
      "image/png": "[encoded data removed]",
      "text/plain": [
       "<matplotlib.figure.Figure at 0x113f71590>"
      ]
     },
     "metadata": {},
     "output_type": "display_data"
    }
   ],
   "source": [
    "cm = confusion_matrix(y_true,y_pred)\n",
    "print('Confusion matrix, Logistic Regression')\n",
    "print(cm)\n",
    "plt.figure()\n",
    "plot_confusion_matrix(cm)"
   ]
  },
  {
   "cell_type": "code",
   "execution_count": 56,
   "metadata": {
    "collapsed": false
   },
   "outputs": [
    {
     "data": {
      "text/plain": [
       "[(0.0, 46318), (1.0, 3682)]"
      ]
     },
     "execution_count": 56,
     "metadata": {},
     "output_type": "execute_result"
    }
   ],
   "source": [
    "feature_rdd.groupBy(lambda x: x.label).mapValues(lambda x: len(x)).collect()"
   ]
  },
  {
   "cell_type": "code",
   "execution_count": 57,
   "metadata": {
    "collapsed": false
   },
   "outputs": [
    {
     "data": {
      "text/plain": [
       "6992"
      ]
     },
     "execution_count": 57,
     "metadata": {},
     "output_type": "execute_result"
    }
   ],
   "source": [
    "downsample = feature_rdd.filter(lambda x: x.label != 1.0).sample(False, 0.15)\n",
    "downsample.count()"
   ]
  },
  {
   "cell_type": "code",
   "execution_count": 59,
   "metadata": {
    "collapsed": false
   },
   "outputs": [],
   "source": [
    "balanced_classes = downsample.union(feature_rdd.filter(lambda x: x.label == 1.0))"
   ]
  },
  {
   "cell_type": "code",
   "execution_count": 60,
   "metadata": {
    "collapsed": false
   },
   "outputs": [
    {
     "data": {
      "text/plain": [
       "[(0.0, 6992), (1.0, 3682)]"
      ]
     },
     "execution_count": 60,
     "metadata": {},
     "output_type": "execute_result"
    }
   ],
   "source": [
    "balanced_classes.groupBy(lambda x: x.label).mapValues(lambda x: len(x)).collect()"
   ]
  },
  {
   "cell_type": "code",
   "execution_count": 61,
   "metadata": {
    "collapsed": true
   },
   "outputs": [],
   "source": [
    "(train_set, test_set) = balanced_classes.randomSplit([0.8, 0.2])"
   ]
  },
  {
   "cell_type": "code",
   "execution_count": 62,
   "metadata": {
    "collapsed": true
   },
   "outputs": [],
   "source": [
    "lrmodel = LogisticRegressionWithLBFGS.train(train_set)\n",
    "predictions = lrmodel.predict(test_set.map(lambda x: x.features))\n",
    "scores_and_labels = predictions.zip(test_set.map(lambda x: x.label))"
   ]
  },
  {
   "cell_type": "code",
   "execution_count": 63,
   "metadata": {
    "collapsed": true
   },
   "outputs": [],
   "source": [
    "def evaluate(y_true, y_pred, model):\n",
    "    test_err = (y_true != y_pred).sum() / float(len(y_pred))\n",
    "    \n",
    "    print 'Test Error = ' + str(test_err)\n",
    "    print \"Accuracy: \" + str((1.0 - test_err) * 100)\n",
    "    print \"\\n\"\n",
    "    \n",
    "    cm = confusion_matrix(y_true, y_pred)\n",
    "    print('Confusion matrix ' + model)\n",
    "    print(cm)\n",
    "    plt.figure()\n",
    "    plot_confusion_matrix(cm)"
   ]
  },
  {
   "cell_type": "code",
   "execution_count": 64,
   "metadata": {
    "collapsed": false
   },
   "outputs": [
    {
     "name": "stdout",
     "output_type": "stream",
     "text": [
      "Test Error = 0.287729196051\n",
      "Accuracy: 71.2270803949\n",
      "\n",
      "\n",
      "Confusion matrix Logistic Regression\n",
      "[[1242  134]\n",
      " [ 478  273]]\n"
     ]
    },
    {
     "data": {
      "image/png": "[encoded data removed]",
      "text/plain": [
       "<matplotlib.figure.Figure at 0x1142379d0>"
      ]
     },
     "metadata": {},
     "output_type": "display_data"
    }
   ],
   "source": [
    "y_true = np.array(scores_and_labels.map(lambda lp: lp[1]).collect())\n",
    "y_pred = np.array(scores_and_labels.map(lambda lp: lp[0]).collect())\n",
    "    \n",
    "evaluate(y_true, y_pred, \"Logistic Regression\")"
   ]
  },
  {
   "cell_type": "markdown",
   "metadata": {},
   "source": [
    "## `spark.ml`"
   ]
  },
  {
   "cell_type": "code",
   "execution_count": 65,
   "metadata": {
    "collapsed": true
   },
   "outputs": [],
   "source": [
    "from pyspark.ml import Pipeline\n",
    "from pyspark.ml.evaluation import BinaryClassificationEvaluator, Evaluator\n",
    "from pyspark.ml.classification import LogisticRegression, RandomForestClassifier, GBTClassifier\n",
    "from pyspark.ml.feature import StandardScaler, VectorAssembler, StringIndexer, VectorIndexer"
   ]
  },
  {
   "cell_type": "code",
   "execution_count": 75,
   "metadata": {
    "collapsed": true
   },
   "outputs": [],
   "source": [
    "# lrmodel = LogisticRegressionWithLBFGS.train(train_set)\n",
    "rf = RandomForestClassifier(featuresCol=\"features\", labelCol=\"indexed\")"
   ]
  },
  {
   "cell_type": "code",
   "execution_count": 68,
   "metadata": {
    "collapsed": false
   },
   "outputs": [
    {
     "data": {
      "text/plain": [
       "pyspark.ml.classification.RandomForestClassifier"
      ]
     },
     "execution_count": 68,
     "metadata": {},
     "output_type": "execute_result"
    }
   ],
   "source": [
    "type(rf)"
   ]
  },
  {
   "cell_type": "code",
   "execution_count": 72,
   "metadata": {
    "collapsed": true
   },
   "outputs": [],
   "source": [
    "stringIndexer = StringIndexer(inputCol=\"label\", outputCol=\"indexed\")\n",
    "si_model = stringIndexer.fit(train_set.toDF())\n",
    "index_df = si_model.transform(train_set.toDF())"
   ]
  },
  {
   "cell_type": "code",
   "execution_count": 73,
   "metadata": {
    "collapsed": false
   },
   "outputs": [
    {
     "name": "stdout",
     "output_type": "stream",
     "text": [
      "+--------------------+-----+-------+\n",
      "|            features|label|indexed|\n",
      "+--------------------+-----+-------+\n",
      "|[56.0,32.0,-4831....|  0.0|    0.0|\n",
      "|[60.8886602759,0....|  0.0|    0.0|\n",
      "|[56.0,72.0,132687...|  0.0|    0.0|\n",
      "|[136.0,208.0,-157...|  0.0|    0.0|\n",
      "|[32.0,64.0,73289....|  0.0|    0.0|\n",
      "|[48.0,32.0,145049...|  0.0|    0.0|\n",
      "|[32.0,72.0,28480....|  0.0|    0.0|\n",
      "|[40.0,16.0,51529....|  0.0|    0.0|\n",
      "|[32.0,8.0,90504.0...|  0.0|    0.0|\n",
      "|[60.8886602759,66...|  0.0|    0.0|\n",
      "|[40.0,40.0,68819....|  0.0|    0.0|\n",
      "|[32.0,40.0,233151...|  0.0|    0.0|\n",
      "|[96.0,48.0,-12529...|  0.0|    0.0|\n",
      "|[120.0,120.0,1065...|  0.0|    0.0|\n",
      "|[48.0,96.0,-96118...|  0.0|    0.0|\n",
      "|[32.0,56.0,109776...|  0.0|    0.0|\n",
      "|[24.0,40.0,-55352...|  0.0|    0.0|\n",
      "|[72.0,56.0,296858...|  0.0|    0.0|\n",
      "|[48.0,56.0,-50004...|  0.0|    0.0|\n",
      "|[60.8886602759,66...|  0.0|    0.0|\n",
      "+--------------------+-----+-------+\n",
      "\n"
     ]
    }
   ],
   "source": [
    "index_df.show()"
   ]
  },
  {
   "cell_type": "code",
   "execution_count": 76,
   "metadata": {
    "collapsed": false
   },
   "outputs": [],
   "source": [
    "rf_model = rf.fit(index_df)"
   ]
  },
  {
   "cell_type": "code",
   "execution_count": 77,
   "metadata": {
    "collapsed": true
   },
   "outputs": [],
   "source": [
    "predictions = rf_model.transform(test_set.toDF())"
   ]
  },
  {
   "cell_type": "code",
   "execution_count": 78,
   "metadata": {
    "collapsed": false
   },
   "outputs": [
    {
     "name": "stdout",
     "output_type": "stream",
     "text": [
      "+--------------------+-----+----------+\n",
      "|            features|label|prediction|\n",
      "+--------------------+-----+----------+\n",
      "|[24.0,24.0,-35327...|  0.0|       0.0|\n",
      "|[0.0,0.0,-2526.71...|  0.0|       0.0|\n",
      "|[64.0,56.0,350274...|  0.0|       0.0|\n",
      "|[60.8886602759,0....|  0.0|       0.0|\n",
      "|[32.0,32.0,113571...|  0.0|       0.0|\n",
      "|[60.8886602759,0....|  0.0|       0.0|\n",
      "|[60.8886602759,0....|  0.0|       0.0|\n",
      "|[32.0,16.0,83453....|  0.0|       0.0|\n",
      "|[16.0,0.0,75306.4...|  0.0|       0.0|\n",
      "|[40.0,32.0,318276...|  0.0|       0.0|\n",
      "|[60.8886602759,0....|  0.0|       0.0|\n",
      "|[8.0,0.0,153616.0...|  0.0|       0.0|\n",
      "|[40.0,56.0,36570....|  0.0|       0.0|\n",
      "|[32.0,48.0,941976...|  0.0|       0.0|\n",
      "|[60.8886602759,66...|  0.0|       0.0|\n",
      "|[60.8886602759,66...|  0.0|       0.0|\n",
      "|[40.0,32.0,-15022...|  0.0|       0.0|\n",
      "|[80.0,104.0,-2040...|  0.0|       0.0|\n",
      "|[24.0,104.0,15944...|  0.0|       0.0|\n",
      "|[40.0,24.0,294188...|  0.0|       0.0|\n",
      "+--------------------+-----+----------+\n",
      "\n"
     ]
    }
   ],
   "source": [
    "predictions.show()"
   ]
  },
  {
   "cell_type": "code",
   "execution_count": 79,
   "metadata": {
    "collapsed": false
   },
   "outputs": [
    {
     "name": "stdout",
     "output_type": "stream",
     "text": [
      "             precision    recall  f1-score   support\n",
      "\n",
      "        0.0       0.76      0.99      0.86      1376\n",
      "        1.0       0.94      0.42      0.59       751\n",
      "\n",
      "avg / total       0.82      0.79      0.76      2127\n",
      "\n",
      "Test Error = 0.212505876822\n",
      "Accuracy: 78.7494123178\n",
      "\n",
      "\n",
      "Confusion matrix Random Forest\n",
      "[[1356   20]\n",
      " [ 432  319]]\n"
     ]
    },
    {
     "data": {
      "image/png": "[encoded data removed]",
      "text/plain": [
       "<matplotlib.figure.Figure at 0x1144aadd0>"
      ]
     },
     "metadata": {},
     "output_type": "display_data"
    }
   ],
   "source": [
    "y_true = np.array(predictions.map(lambda x: x.label).collect())\n",
    "y_pred = np.array(predictions.map(lambda x: x.prediction).collect())\n",
    "\n",
    "print classification_report(y_true, y_pred)\n",
    "evaluate(y_true, y_pred, \"Random Forest\")"
   ]
  },
  {
   "cell_type": "markdown",
   "metadata": {},
   "source": [
    "## Pipelines"
   ]
  },
  {
   "cell_type": "code",
   "execution_count": 81,
   "metadata": {
    "collapsed": true
   },
   "outputs": [],
   "source": [
    "# scale features\n",
    "scaler = StandardScaler(inputCol=\"features\", outputCol=\"scaledFeatures\",\n",
    "                        withStd=True, withMean=True)\n",
    "\n",
    "# Compute summary statistics by fitting the StandardScaler\n",
    "scalerModel = scaler.fit(train_set.toDF())\n",
    "\n",
    "# Normalize each feature to have unit standard deviation.\n",
    "scaledData = scalerModel.transform(train_set.toDF())"
   ]
  },
  {
   "cell_type": "code",
   "execution_count": 82,
   "metadata": {
    "collapsed": true
   },
   "outputs": [],
   "source": [
    "stringIndexer = StringIndexer(inputCol=\"label\", outputCol=\"indexed\")\n",
    "si_model = stringIndexer.fit(scaledData)\n",
    "index_df = si_model.transform(scaledData)"
   ]
  },
  {
   "cell_type": "code",
   "execution_count": 96,
   "metadata": {
    "collapsed": true
   },
   "outputs": [],
   "source": [
    "gbt = GBTClassifier(labelCol=\"indexed\", featuresCol='scaledFeatures', maxIter=100)"
   ]
  },
  {
   "cell_type": "code",
   "execution_count": 84,
   "metadata": {
    "collapsed": true
   },
   "outputs": [],
   "source": [
    "model = gbt.fit(index_df)"
   ]
  },
  {
   "cell_type": "code",
   "execution_count": 85,
   "metadata": {
    "collapsed": true
   },
   "outputs": [],
   "source": [
    "predictions = model.transform(scalerModel.transform(test_set.toDF()))"
   ]
  },
  {
   "cell_type": "code",
   "execution_count": 86,
   "metadata": {
    "collapsed": true
   },
   "outputs": [],
   "source": [
    "from pyspark.ml import Pipeline"
   ]
  },
  {
   "cell_type": "code",
   "execution_count": 97,
   "metadata": {
    "collapsed": true
   },
   "outputs": [],
   "source": [
    "pipelineGBT = Pipeline(stages=[scaler, stringIndexer, gbt])"
   ]
  },
  {
   "cell_type": "code",
   "execution_count": 90,
   "metadata": {
    "collapsed": false
   },
   "outputs": [
    {
     "data": {
      "text/plain": [
       "Param(parent='Pipeline_4f90ad0fe7376688a9fb', name='stages', doc='pipeline stages')"
      ]
     },
     "execution_count": 90,
     "metadata": {},
     "output_type": "execute_result"
    }
   ],
   "source": [
    "pipelineGBT.stages"
   ]
  },
  {
   "cell_type": "code",
   "execution_count": 98,
   "metadata": {
    "collapsed": true
   },
   "outputs": [],
   "source": [
    "gbt_model = pipelineGBT.fit(train_set.toDF())"
   ]
  },
  {
   "cell_type": "code",
   "execution_count": 99,
   "metadata": {
    "collapsed": true
   },
   "outputs": [],
   "source": [
    "predictions = gbt_model.transform(test_set.toDF())"
   ]
  },
  {
   "cell_type": "code",
   "execution_count": 93,
   "metadata": {
    "collapsed": false
   },
   "outputs": [
    {
     "name": "stdout",
     "output_type": "stream",
     "text": [
      "+--------------------+-----+--------------------+-------+----------+\n",
      "|            features|label|      scaledFeatures|indexed|prediction|\n",
      "+--------------------+-----+--------------------+-------+----------+\n",
      "|[24.0,24.0,-35327...|  0.0|[-0.2841872064726...|    0.0|       0.0|\n",
      "|[0.0,0.0,-2526.71...|  0.0|[-0.4557386866640...|    0.0|       0.0|\n",
      "|[64.0,56.0,350274...|  0.0|[0.00173192717971...|    0.0|       0.0|\n",
      "|[60.8886602759,0....|  0.0|[-0.0205078617806...|    0.0|       0.0|\n",
      "|[32.0,32.0,113571...|  0.0|[-0.2270033797421...|    0.0|       0.0|\n",
      "|[60.8886602759,0....|  0.0|[-0.0205078617806...|    0.0|       0.0|\n",
      "|[60.8886602759,0....|  0.0|[-0.0205078617806...|    0.0|       0.0|\n",
      "|[32.0,16.0,83453....|  0.0|[-0.2270033797421...|    0.0|       0.0|\n",
      "|[16.0,0.0,75306.4...|  0.0|[-0.3413710332030...|    0.0|       0.0|\n",
      "|[40.0,32.0,318276...|  0.0|[-0.1698195530116...|    0.0|       0.0|\n",
      "|[60.8886602759,0....|  0.0|[-0.0205078617806...|    0.0|       0.0|\n",
      "|[8.0,0.0,153616.0...|  0.0|[-0.3985548599335...|    0.0|       0.0|\n",
      "|[40.0,56.0,36570....|  0.0|[-0.1698195530116...|    0.0|       0.0|\n",
      "|[32.0,48.0,941976...|  0.0|[-0.2270033797421...|    0.0|       0.0|\n",
      "|[60.8886602759,66...|  0.0|[-0.0205078617806...|    0.0|       0.0|\n",
      "|[60.8886602759,66...|  0.0|[-0.0205078617806...|    0.0|       0.0|\n",
      "|[40.0,32.0,-15022...|  0.0|[-0.1698195530116...|    0.0|       0.0|\n",
      "|[80.0,104.0,-2040...|  0.0|[0.11609958064064...|    0.0|       0.0|\n",
      "|[24.0,104.0,15944...|  0.0|[-0.2841872064726...|    0.0|       0.0|\n",
      "|[40.0,24.0,294188...|  0.0|[-0.1698195530116...|    0.0|       0.0|\n",
      "+--------------------+-----+--------------------+-------+----------+\n",
      "\n"
     ]
    }
   ],
   "source": [
    "predictions.show()"
   ]
  },
  {
   "cell_type": "code",
   "execution_count": 94,
   "metadata": {
    "collapsed": false
   },
   "outputs": [
    {
     "data": {
      "text/plain": [
       "[StandardScaler_4d6bb47b72f3943d3a86,\n",
       " StringIndexer_4644863e7bea8b848f5c,\n",
       " GBTClassifier_4a28808bf252ef21c40c]"
      ]
     },
     "execution_count": 94,
     "metadata": {},
     "output_type": "execute_result"
    }
   ],
   "source": [
    "gbt_model.stages"
   ]
  },
  {
   "cell_type": "code",
   "execution_count": 95,
   "metadata": {
    "collapsed": false
   },
   "outputs": [
    {
     "name": "stdout",
     "output_type": "stream",
     "text": [
      "             precision    recall  f1-score   support\n",
      "\n",
      "        0.0       0.77      0.97      0.86      1376\n",
      "        1.0       0.90      0.46      0.61       751\n",
      "\n",
      "avg / total       0.81      0.79      0.77      2127\n",
      "\n",
      "Test Error = 0.208274565115\n",
      "Accuracy: 79.1725434885\n",
      "\n",
      "\n",
      "Confusion matrix GBT, Pipeline\n",
      "[[1336   40]\n",
      " [ 403  348]]\n"
     ]
    },
    {
     "data": {
      "image/png": "[encoded data removed]",
      "text/plain": [
       "<matplotlib.figure.Figure at 0x114558890>"
      ]
     },
     "metadata": {},
     "output_type": "display_data"
    }
   ],
   "source": [
    "y_true = np.array(predictions.map(lambda x: x.label).collect())\n",
    "y_pred = np.array(predictions.map(lambda x: x.prediction).collect())\n",
    "\n",
    "print classification_report(y_true, y_pred)\n",
    "evaluate(y_true, y_pred, \"GBT, Pipeline\")"
   ]
  },
  {
   "cell_type": "code",
   "execution_count": 100,
   "metadata": {
    "collapsed": false
   },
   "outputs": [
    {
     "name": "stdout",
     "output_type": "stream",
     "text": [
      "             precision    recall  f1-score   support\n",
      "\n",
      "        0.0       0.77      0.95      0.85      1376\n",
      "        1.0       0.84      0.49      0.62       751\n",
      "\n",
      "avg / total       0.80      0.79      0.77      2127\n",
      "\n",
      "Test Error = 0.212505876822\n",
      "Accuracy: 78.7494123178\n",
      "\n",
      "\n",
      "Confusion matrix GBT, Pipeline (100 iterations)\n",
      "[[1305   71]\n",
      " [ 381  370]]\n"
     ]
    },
    {
     "data": {
      "image/png": "[encoded data removed]",
      "text/plain": [
       "<matplotlib.figure.Figure at 0x1144aa450>"
      ]
     },
     "metadata": {},
     "output_type": "display_data"
    }
   ],
   "source": [
    "y_true = np.array(predictions.map(lambda x: x.label).collect())\n",
    "y_pred = np.array(predictions.map(lambda x: x.prediction).collect())\n",
    "\n",
    "print classification_report(y_true, y_pred)\n",
    "evaluate(y_true, y_pred, \"GBT, Pipeline (100 iterations)\")"
   ]
  }
 ],
 "metadata": {
  "kernelspec": {
   "display_name": "Python 2",
   "language": "python",
   "name": "python2"
  },
  "language_info": {
   "codemirror_mode": {
    "name": "ipython",
    "version": 2
   },
   "file_extension": ".py",
   "mimetype": "text/x-python",
   "name": "python",
   "nbconvert_exporter": "python",
   "pygments_lexer": "ipython2",
   "version": "2.7.9"
  }
 },
 "nbformat": 4,
 "nbformat_minor": 0
}
