{
 "cells": [
  {
   "cell_type": "code",
   "execution_count": 1,
   "metadata": {
    "collapsed": true
   },
   "outputs": [],
   "source": [
    "import string\n",
    "import json \n",
    "import pickle as pkl\n",
    "from nltk.tokenize import word_tokenize\n",
    "from nltk.corpus import stopwords\n",
    "import pyspark as ps\n",
    "from collections import Counter\n",
    "import numpy as np"
   ]
  },
  {
   "cell_type": "code",
   "execution_count": 2,
   "metadata": {
    "collapsed": false
   },
   "outputs": [],
   "source": [
    "sc = ps.SparkContext()"
   ]
  },
  {
   "cell_type": "code",
   "execution_count": 3,
   "metadata": {
    "collapsed": true
   },
   "outputs": [],
   "source": [
    "test_strings = ['the quick brown fox jumps over the brown fence.',\n",
    "              'the boy paints a tall fence brown!',\n",
    "              'basketball players are tall.',\n",
    "              'quick basketball players jump high']"
   ]
  },
  {
   "cell_type": "code",
   "execution_count": 4,
   "metadata": {
    "collapsed": true
   },
   "outputs": [],
   "source": [
    "import nltk, string\n",
    "\n",
    "def tokenize(text):\n",
    "    tokens = [] \n",
    "    \n",
    "    for word in nltk.word_tokenize(text):\n",
    "        if word \\\n",
    "            not in nltk.corpus.stopwords.words('english') \\\n",
    "            and word not in string.punctuation \\\n",
    "            and word != '``':    \n",
    "                tokens.append(word)\n",
    "    \n",
    "    return tokens"
   ]
  },
  {
   "cell_type": "code",
   "execution_count": 5,
   "metadata": {
    "collapsed": false
   },
   "outputs": [
    {
     "data": {
      "text/plain": [
       "[['quick', 'brown', 'fox', 'jumps', 'brown', 'fence'],\n",
       " ['boy', 'paints', 'tall', 'fence', 'brown'],\n",
       " ['basketball', 'players', 'tall'],\n",
       " ['quick', 'basketball', 'players', 'jump', 'high']]"
      ]
     },
     "execution_count": 5,
     "metadata": {},
     "output_type": "execute_result"
    }
   ],
   "source": [
    "test_tokens = sc.parallelize(test_strings).map(tokenize)\n",
    "test_tokens.collect()"
   ]
  },
  {
   "cell_type": "code",
   "execution_count": 6,
   "metadata": {
    "collapsed": false
   },
   "outputs": [
    {
     "data": {
      "text/plain": [
       "['quick',\n",
       " 'jump',\n",
       " 'high',\n",
       " 'brown',\n",
       " 'players',\n",
       " 'tall',\n",
       " 'paints',\n",
       " 'boy',\n",
       " 'jumps',\n",
       " 'basketball',\n",
       " 'fox',\n",
       " 'fence']"
      ]
     },
     "execution_count": 6,
     "metadata": {},
     "output_type": "execute_result"
    }
   ],
   "source": [
    "vocab = test_tokens.flatMap(lambda words: words).distinct()\n",
    "vocab.collect()"
   ]
  },
  {
   "cell_type": "code",
   "execution_count": 7,
   "metadata": {
    "collapsed": false
   },
   "outputs": [
    {
     "data": {
      "text/plain": [
       "12"
      ]
     },
     "execution_count": 7,
     "metadata": {},
     "output_type": "execute_result"
    }
   ],
   "source": [
    "vocab.count()"
   ]
  },
  {
   "cell_type": "code",
   "execution_count": 8,
   "metadata": {
    "collapsed": true
   },
   "outputs": [],
   "source": [
    "from collections import Counter\n",
    "import numpy as np\n",
    "\n",
    "broadcastVocab = sc.broadcast(vocab.collect())\n",
    "\n",
    "def bow_vectorize(tokens):\n",
    "    word_counts = Counter(tokens)\n",
    "    vector = [word_counts[v] if v in word_counts else 0 for v in broadcastVocab.value]\n",
    "    return np.array(vector)"
   ]
  },
  {
   "cell_type": "code",
   "execution_count": 9,
   "metadata": {
    "collapsed": false
   },
   "outputs": [
    {
     "data": {
      "text/plain": [
       "[array([1, 0, 0, 2, 0, 0, 0, 0, 1, 0, 1, 1]),\n",
       " array([0, 0, 0, 1, 0, 1, 1, 1, 0, 0, 0, 1]),\n",
       " array([0, 0, 0, 0, 1, 1, 0, 0, 0, 1, 0, 0]),\n",
       " array([1, 1, 1, 0, 1, 0, 0, 0, 0, 1, 0, 0])]"
      ]
     },
     "execution_count": 9,
     "metadata": {},
     "output_type": "execute_result"
    }
   ],
   "source": [
    "test_tokens.map(bow_vectorize).collect()"
   ]
  },
  {
   "cell_type": "code",
   "execution_count": 10,
   "metadata": {
    "collapsed": false
   },
   "outputs": [
    {
     "data": {
      "text/plain": [
       "[['quick', 'brown', 'fox', 'jumps', 'brown', 'fence'],\n",
       " ['boy', 'paints', 'tall', 'fence', 'brown'],\n",
       " ['basketball', 'players', 'tall'],\n",
       " ['quick', 'basketball', 'players', 'jump', 'high']]"
      ]
     },
     "execution_count": 10,
     "metadata": {},
     "output_type": "execute_result"
    }
   ],
   "source": [
    "test_tokens.collect()"
   ]
  },
  {
   "cell_type": "code",
   "execution_count": 11,
   "metadata": {
    "collapsed": false
   },
   "outputs": [
    {
     "data": {
      "text/plain": [
       "['quick',\n",
       " 'jump',\n",
       " 'high',\n",
       " 'brown',\n",
       " 'players',\n",
       " 'tall',\n",
       " 'paints',\n",
       " 'boy',\n",
       " 'jumps',\n",
       " 'basketball',\n",
       " 'fox',\n",
       " 'fence']"
      ]
     },
     "execution_count": 11,
     "metadata": {},
     "output_type": "execute_result"
    }
   ],
   "source": [
    "broadcastVocab.value"
   ]
  },
  {
   "cell_type": "markdown",
   "metadata": {},
   "source": [
    "## TF-IDF"
   ]
  },
  {
   "cell_type": "code",
   "execution_count": 12,
   "metadata": {
    "collapsed": true
   },
   "outputs": [],
   "source": [
    "term_freq = test_tokens.map(lambda terms: Counter(terms))"
   ]
  },
  {
   "cell_type": "code",
   "execution_count": 13,
   "metadata": {
    "collapsed": true
   },
   "outputs": [],
   "source": [
    "doc_freq = term_freq.flatMap(lambda counts: counts.keys()).map(lambda keys: (keys, 1)).reduceByKey(lambda a, b: a + b)"
   ]
  },
  {
   "cell_type": "code",
   "execution_count": 14,
   "metadata": {
    "collapsed": true
   },
   "outputs": [],
   "source": [
    "total_docs = term_freq.count()"
   ]
  },
  {
   "cell_type": "code",
   "execution_count": 15,
   "metadata": {
    "collapsed": true
   },
   "outputs": [],
   "source": [
    "import math\n",
    "\n",
    "idf = map(lambda tup: (tup[0], math.log(float(total_docs)/ (1 + tup[1]))), doc_freq.collect())"
   ]
  },
  {
   "cell_type": "code",
   "execution_count": 24,
   "metadata": {
    "collapsed": false
   },
   "outputs": [],
   "source": [
    "broadcast_idf = sc.broadcast(idf)\n",
    "\n",
    "def tfidf_vectorize(tokens):\n",
    "    word_counts = Counter(tokens)\n",
    "    doc_length = sum(word_counts.values())\n",
    "    \n",
    "    vector = [ word_counts.get(word[0], 0) * word[1] / float(doc_length) for word in broadcast_idf.value]\n",
    "    return np.array(vector)"
   ]
  },
  {
   "cell_type": "code",
   "execution_count": 25,
   "metadata": {
    "collapsed": false
   },
   "outputs": [
    {
     "data": {
      "text/plain": [
       "[array([ 0.28768207,  0.        ,  0.        ,  0.57536414,  0.        ,\n",
       "         0.        ,  0.        ,  0.        ,  0.69314718,  0.        ,\n",
       "         0.69314718,  0.28768207]),\n",
       " array([ 0.        ,  0.        ,  0.        ,  0.28768207,  0.28768207,\n",
       "         0.69314718,  0.        ,  0.69314718,  0.        ,  0.        ,\n",
       "         0.        ,  0.28768207]),\n",
       " array([ 0.        ,  0.        ,  0.        ,  0.        ,  0.28768207,\n",
       "         0.        ,  0.28768207,  0.        ,  0.        ,  0.28768207,\n",
       "         0.        ,  0.        ]),\n",
       " array([ 0.28768207,  0.69314718,  0.69314718,  0.        ,  0.        ,\n",
       "         0.        ,  0.28768207,  0.        ,  0.        ,  0.28768207,\n",
       "         0.        ,  0.        ])]"
      ]
     },
     "execution_count": 25,
     "metadata": {},
     "output_type": "execute_result"
    }
   ],
   "source": [
    "test_tokens.map(tfidf_vectorize).collect()"
   ]
  },
  {
   "cell_type": "code",
   "execution_count": 26,
   "metadata": {
    "collapsed": false
   },
   "outputs": [
    {
     "name": "stdout",
     "output_type": "stream",
     "text": [
      "  (0, 4)\t0.250320232562\n",
      "  (0, 9)\t0.352797303326\n",
      "  (0, 8)\t0.352797303326\n",
      "  (0, 5)\t0.352797303326\n",
      "  (0, 3)\t0.500640465123\n",
      "  (0, 12)\t0.250320232562\n",
      "  (0, 14)\t0.500640465123\n",
      "  (1, 13)\t0.354157614079\n",
      "  (1, 10)\t0.499144036105\n",
      "  (1, 2)\t0.499144036105\n",
      "  (1, 4)\t0.354157614079\n",
      "  (1, 3)\t0.354157614079\n",
      "  (1, 14)\t0.354157614079\n",
      "  (2, 0)\t0.631156936704\n",
      "  (2, 11)\t0.447824713197\n",
      "  (2, 1)\t0.447824713197\n",
      "  (2, 13)\t0.447824713197\n",
      "  (3, 6)\t0.533737855662\n",
      "  (3, 7)\t0.533737855662\n",
      "  (3, 11)\t0.378702963137\n",
      "  (3, 1)\t0.378702963137\n",
      "  (3, 12)\t0.378702963137\n"
     ]
    }
   ],
   "source": [
    "from sklearn.feature_extraction.text import CountVectorizer\n",
    "from sklearn.feature_extraction.text import TfidfTransformer, TfidfVectorizer\n",
    "\n",
    "tf = TfidfVectorizer(lowercase = False, smooth_idf = False)\n",
    "print tf.fit_transform(test_strings)"
   ]
  },
  {
   "cell_type": "code",
   "execution_count": 20,
   "metadata": {
    "collapsed": false
   },
   "outputs": [
    {
     "data": {
      "text/plain": [
       "[array([1, 0, 0, 2, 0, 0, 0, 0, 1, 0, 1, 1]),\n",
       " array([0, 0, 0, 1, 0, 1, 1, 1, 0, 0, 0, 1]),\n",
       " array([0, 0, 0, 0, 1, 1, 0, 0, 0, 1, 0, 0]),\n",
       " array([1, 1, 1, 0, 1, 0, 0, 0, 0, 1, 0, 0])]"
      ]
     },
     "execution_count": 20,
     "metadata": {},
     "output_type": "execute_result"
    }
   ],
   "source": [
    "test_tokens.map(bow_vectorize).collect()"
   ]
  }
 ],
 "metadata": {
  "kernelspec": {
   "display_name": "Python 2",
   "language": "python",
   "name": "python2"
  },
  "language_info": {
   "codemirror_mode": {
    "name": "ipython",
    "version": 2
   },
   "file_extension": ".py",
   "mimetype": "text/x-python",
   "name": "python",
   "nbconvert_exporter": "python",
   "pygments_lexer": "ipython2",
   "version": "2.7.9"
  }
 },
 "nbformat": 4,
 "nbformat_minor": 0
}
