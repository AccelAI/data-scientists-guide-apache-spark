{
 "cells": [
  {
   "cell_type": "code",
   "execution_count": 1,
   "metadata": {
    "collapsed": true
   },
   "outputs": [],
   "source": [
    "import pyspark as ps"
   ]
  },
  {
   "cell_type": "markdown",
   "metadata": {},
   "source": [
    "## Experimenting with PySpark"
   ]
  },
  {
   "cell_type": "code",
   "execution_count": 2,
   "metadata": {
    "collapsed": true
   },
   "outputs": [],
   "source": [
    "sc = ps.SparkContext()"
   ]
  },
  {
   "cell_type": "code",
   "execution_count": 3,
   "metadata": {
    "collapsed": true
   },
   "outputs": [],
   "source": [
    "link = 's3n://mortar-example-data/airline-data'"
   ]
  },
  {
   "cell_type": "markdown",
   "metadata": {},
   "source": [
    "http://www.transtats.bts.gov/DL_SelectFields.asp?Table_ID=236"
   ]
  },
  {
   "cell_type": "code",
   "execution_count": 4,
   "metadata": {
    "collapsed": true
   },
   "outputs": [],
   "source": [
    "airline = sc.textFile(link)"
   ]
  },
  {
   "cell_type": "code",
   "execution_count": 5,
   "metadata": {
    "collapsed": false
   },
   "outputs": [
    {
     "data": {
      "text/plain": [
       "[u'\"YEAR\",\"MONTH\",\"UNIQUE_CARRIER\",\"ORIGIN_AIRPORT_ID\",\"DEST_AIRPORT_ID\",\"DEP_DELAY\",\"DEP_DELAY_NEW\",\"ARR_DELAY\",\"ARR_DELAY_NEW\",\"CANCELLED\",',\n",
       " u'2012,4,\"AA\",12478,12892,-4.00,0.00,-21.00,0.00,0.00,']"
      ]
     },
     "execution_count": 5,
     "metadata": {},
     "output_type": "execute_result"
    }
   ],
   "source": [
    "airline.take(2)"
   ]
  },
  {
   "cell_type": "code",
   "execution_count": 6,
   "metadata": {
    "collapsed": true
   },
   "outputs": [],
   "source": [
    "airline_no_quote = airline.map(lambda line: line.replace('\\'', '').replace('\\\"', '').strip(','))"
   ]
  },
  {
   "cell_type": "code",
   "execution_count": 7,
   "metadata": {
    "collapsed": false
   },
   "outputs": [
    {
     "name": "stdout",
     "output_type": "stream",
     "text": [
      "24.9299609661\n"
     ]
    }
   ],
   "source": [
    "import time\n",
    "\n",
    "start = time.time()\n",
    "\n",
    "airline_no_quote.take(2)\n",
    "\n",
    "end = time.time()\n",
    "\n",
    "print end - start"
   ]
  },
  {
   "cell_type": "code",
   "execution_count": 8,
   "metadata": {
    "collapsed": false
   },
   "outputs": [
    {
     "data": {
      "text/plain": [
       "PythonRDD[4] at RDD at PythonRDD.scala:43"
      ]
     },
     "execution_count": 8,
     "metadata": {},
     "output_type": "execute_result"
    }
   ],
   "source": [
    "airline_no_quote.cache()"
   ]
  },
  {
   "cell_type": "code",
   "execution_count": 9,
   "metadata": {
    "collapsed": false
   },
   "outputs": [
    {
     "name": "stdout",
     "output_type": "stream",
     "text": [
      "Time Elapsed: 25.8202059269 seconds\n"
     ]
    }
   ],
   "source": [
    "start = time.time()\n",
    "\n",
    "results = airline_no_quote.take(2)\n",
    "\n",
    "end = time.time()\n",
    "\n",
    "print \"Time Elapsed: {0} seconds\".format(end - start)"
   ]
  },
  {
   "cell_type": "code",
   "execution_count": 10,
   "metadata": {
    "collapsed": false
   },
   "outputs": [
    {
     "name": "stdout",
     "output_type": "stream",
     "text": [
      "Time Elapsed: 0.0986459255219 seconds\n"
     ]
    }
   ],
   "source": [
    "start = time.time()\n",
    "\n",
    "results = airline_no_quote.take(2)\n",
    "\n",
    "end = time.time()\n",
    "\n",
    "print \"Time Elapsed: {0} seconds\".format(end - start)"
   ]
  },
  {
   "cell_type": "code",
   "execution_count": 11,
   "metadata": {
    "collapsed": false
   },
   "outputs": [
    {
     "data": {
      "text/plain": [
       "[u'YEAR,MONTH,UNIQUE_CARRIER,ORIGIN_AIRPORT_ID,DEST_AIRPORT_ID,DEP_DELAY,DEP_DELAY_NEW,ARR_DELAY,ARR_DELAY_NEW,CANCELLED',\n",
       " u'2012,4,AA,12478,12892,-4.00,0.00,-21.00,0.00,0.00']"
      ]
     },
     "execution_count": 11,
     "metadata": {},
     "output_type": "execute_result"
    }
   ],
   "source": [
    "results"
   ]
  },
  {
   "cell_type": "code",
   "execution_count": 12,
   "metadata": {
    "collapsed": false
   },
   "outputs": [
    {
     "name": "stdout",
     "output_type": "stream",
     "text": [
      "[u'YEAR', u'MONTH', u'UNIQUE_CARRIER', u'ORIGIN_AIRPORT_ID', u'DEST_AIRPORT_ID', u'DEP_DELAY', u'DEP_DELAY_NEW', u'ARR_DELAY', u'ARR_DELAY_NEW', u'CANCELLED']\n"
     ]
    }
   ],
   "source": [
    "header_line = airline_no_quote.first()\n",
    "\n",
    "header_list = header_line.split(',')\n",
    "\n",
    "print header_list"
   ]
  },
  {
   "cell_type": "code",
   "execution_count": 13,
   "metadata": {
    "collapsed": true
   },
   "outputs": [],
   "source": [
    "airline_no_header = airline_no_quote.filter(lambda row: row != header_list)"
   ]
  },
  {
   "cell_type": "code",
   "execution_count": 14,
   "metadata": {
    "collapsed": false
   },
   "outputs": [
    {
     "data": {
      "text/plain": [
       "u'YEAR,MONTH,UNIQUE_CARRIER,ORIGIN_AIRPORT_ID,DEST_AIRPORT_ID,DEP_DELAY,DEP_DELAY_NEW,ARR_DELAY,ARR_DELAY_NEW,CANCELLED'"
      ]
     },
     "execution_count": 14,
     "metadata": {},
     "output_type": "execute_result"
    }
   ],
   "source": [
    "airline_no_header.first()"
   ]
  },
  {
   "cell_type": "code",
   "execution_count": 15,
   "metadata": {
    "collapsed": false
   },
   "outputs": [
    {
     "data": {
      "text/plain": [
       "u'2012,4,AA,12478,12892,-4.00,0.00,-21.00,0.00,0.00'"
      ]
     },
     "execution_count": 15,
     "metadata": {},
     "output_type": "execute_result"
    }
   ],
   "source": [
    "airline_no_header = airline_no_quote.filter(lambda row: row != header_line)\n",
    "airline_no_header.first()"
   ]
  },
  {
   "cell_type": "code",
   "execution_count": 16,
   "metadata": {
    "collapsed": true
   },
   "outputs": [],
   "source": [
    "def make_row(row):\n",
    "    row_list = row.split(',')\n",
    "    \n",
    "    d = dict(zip(header_list, row_list))\n",
    "    \n",
    "    return d"
   ]
  },
  {
   "cell_type": "code",
   "execution_count": 17,
   "metadata": {
    "collapsed": true
   },
   "outputs": [],
   "source": [
    "airline_rows = airline_no_header.map(make_row)"
   ]
  },
  {
   "cell_type": "code",
   "execution_count": 18,
   "metadata": {
    "collapsed": false
   },
   "outputs": [
    {
     "data": {
      "text/plain": [
       "[{u'ARR_DELAY': u'-21.00',\n",
       "  u'ARR_DELAY_NEW': u'0.00',\n",
       "  u'CANCELLED': u'0.00',\n",
       "  u'DEP_DELAY': u'-4.00',\n",
       "  u'DEP_DELAY_NEW': u'0.00',\n",
       "  u'DEST_AIRPORT_ID': u'12892',\n",
       "  u'MONTH': u'4',\n",
       "  u'ORIGIN_AIRPORT_ID': u'12478',\n",
       "  u'UNIQUE_CARRIER': u'AA',\n",
       "  u'YEAR': u'2012'},\n",
       " {u'ARR_DELAY': u'-65.00',\n",
       "  u'ARR_DELAY_NEW': u'0.00',\n",
       "  u'CANCELLED': u'0.00',\n",
       "  u'DEP_DELAY': u'-7.00',\n",
       "  u'DEP_DELAY_NEW': u'0.00',\n",
       "  u'DEST_AIRPORT_ID': u'12892',\n",
       "  u'MONTH': u'4',\n",
       "  u'ORIGIN_AIRPORT_ID': u'12478',\n",
       "  u'UNIQUE_CARRIER': u'AA',\n",
       "  u'YEAR': u'2012'},\n",
       " {u'ARR_DELAY': u'-63.00',\n",
       "  u'ARR_DELAY_NEW': u'0.00',\n",
       "  u'CANCELLED': u'0.00',\n",
       "  u'DEP_DELAY': u'-6.00',\n",
       "  u'DEP_DELAY_NEW': u'0.00',\n",
       "  u'DEST_AIRPORT_ID': u'12892',\n",
       "  u'MONTH': u'4',\n",
       "  u'ORIGIN_AIRPORT_ID': u'12478',\n",
       "  u'UNIQUE_CARRIER': u'AA',\n",
       "  u'YEAR': u'2012'},\n",
       " {u'ARR_DELAY': u'5.00',\n",
       "  u'ARR_DELAY_NEW': u'5.00',\n",
       "  u'CANCELLED': u'0.00',\n",
       "  u'DEP_DELAY': u'-6.00',\n",
       "  u'DEP_DELAY_NEW': u'0.00',\n",
       "  u'DEST_AIRPORT_ID': u'12892',\n",
       "  u'MONTH': u'4',\n",
       "  u'ORIGIN_AIRPORT_ID': u'12478',\n",
       "  u'UNIQUE_CARRIER': u'AA',\n",
       "  u'YEAR': u'2012'},\n",
       " {u'ARR_DELAY': u'-39.00',\n",
       "  u'ARR_DELAY_NEW': u'0.00',\n",
       "  u'CANCELLED': u'0.00',\n",
       "  u'DEP_DELAY': u'-2.00',\n",
       "  u'DEP_DELAY_NEW': u'0.00',\n",
       "  u'DEST_AIRPORT_ID': u'12892',\n",
       "  u'MONTH': u'4',\n",
       "  u'ORIGIN_AIRPORT_ID': u'12478',\n",
       "  u'UNIQUE_CARRIER': u'AA',\n",
       "  u'YEAR': u'2012'}]"
      ]
     },
     "execution_count": 18,
     "metadata": {},
     "output_type": "execute_result"
    }
   ],
   "source": [
    "airline_rows.take(5)"
   ]
  },
  {
   "cell_type": "code",
   "execution_count": 19,
   "metadata": {
    "collapsed": false
   },
   "outputs": [],
   "source": [
    "destination_rdd = airline_rows.map(lambda row: (row['DEST_AIRPORT_ID'], \\\n",
    "                                                float(row['ARR_DELAY'] if row['ARR_DELAY'] else 0)))\n",
    "origin_rdd = airline_rows.map(lambda row: (row['ORIGIN_AIRPORT_ID'], \\\n",
    "                                           float(row['DEP_DELAY']) if row['DEP_DELAY'] else 0))"
   ]
  },
  {
   "cell_type": "code",
   "execution_count": 20,
   "metadata": {
    "collapsed": false
   },
   "outputs": [
    {
     "data": {
      "text/plain": [
       "[(u'12892', -21.0), (u'12892', -65.0)]"
      ]
     },
     "execution_count": 20,
     "metadata": {},
     "output_type": "execute_result"
    }
   ],
   "source": [
    "destination_rdd.take(2)"
   ]
  },
  {
   "cell_type": "code",
   "execution_count": 21,
   "metadata": {
    "collapsed": false
   },
   "outputs": [
    {
     "data": {
      "text/plain": [
       "[(u'12478', -4.0), (u'12478', -7.0)]"
      ]
     },
     "execution_count": 21,
     "metadata": {},
     "output_type": "execute_result"
    }
   ],
   "source": [
    "origin_rdd.take(2)"
   ]
  },
  {
   "cell_type": "markdown",
   "metadata": {},
   "source": [
    "## Mean Delay for Take off and landing"
   ]
  },
  {
   "cell_type": "code",
   "execution_count": 22,
   "metadata": {
    "collapsed": false
   },
   "outputs": [],
   "source": [
    "import numpy as np\n",
    "\n",
    "mean_delays_dest = destination_rdd.groupByKey().mapValues(lambda delays: np.mean(delays.data))\n",
    "mean_delays_origin = origin_rdd.groupByKey().mapValues(lambda delays: np.mean(delays.data))"
   ]
  },
  {
   "cell_type": "code",
   "execution_count": 23,
   "metadata": {
    "collapsed": false
   },
   "outputs": [
    {
     "data": {
      "text/plain": [
       "[(u'10141', -1.8319672131147542)]"
      ]
     },
     "execution_count": 23,
     "metadata": {},
     "output_type": "execute_result"
    }
   ],
   "source": [
    "mean_delays_origin.take(1)"
   ]
  },
  {
   "cell_type": "code",
   "execution_count": 24,
   "metadata": {
    "collapsed": false
   },
   "outputs": [
    {
     "name": "stdout",
     "output_type": "stream",
     "text": [
      "[(u'12129', -6.7547169811320753), (u'15991', -6.0978441127694856), (u'12888', -5.9056603773584904), (u'14113', -5.3462002412545235), (u'10779', -5.1457627118644069), (u'13127', -5.0891265597147948), (u'14633', -4.9087677725118484), (u'10739', -4.666666666666667), (u'15897', -4.6107142857142858), (u'11274', -4.6034482758620694)]\n"
     ]
    }
   ],
   "source": [
    "print mean_delays_origin.sortBy(lambda t: t[1], ascending=True).take(10)"
   ]
  },
  {
   "cell_type": "code",
   "execution_count": 25,
   "metadata": {
    "collapsed": false
   },
   "outputs": [
    {
     "name": "stdout",
     "output_type": "stream",
     "text": [
      "[(u'13541', 33.845454545454544), (u'10930', 32.533490011750878), (u'13964', 30.258196721311474), (u'10157', 24.69469773725093), (u'15295', 20.405063291139239), (u'15356', 20.399999999999999), (u'14487', 20.05645784996133), (u'12016', 19.472491909385113), (u'13424', 18.739763421292082), (u'11002', 17.139170506912443)]\n"
     ]
    }
   ],
   "source": [
    "print mean_delays_origin.sortBy(lambda t: t[1], ascending=False).take(10)"
   ]
  },
  {
   "cell_type": "code",
   "execution_count": 27,
   "metadata": {
    "collapsed": false
   },
   "outputs": [
    {
     "name": "stdout",
     "output_type": "stream",
     "text": [
      "[(u'12343', -16.925233644859812), (u'12888', -8.9444444444444446), (u'11415', -7.5650793650793648), (u'10466', -7.4375), (u'12335', -5.6448598130841123), (u'10158', -5.5479452054794525), (u'13127', -5.1532976827094474), (u'10141', -4.8770491803278686), (u'10779', -4.7915254237288138), (u'11695', -4.472236911686938)]\n"
     ]
    }
   ],
   "source": [
    "print mean_delays_dest.sortBy(lambda t: t[1], ascending=True).take(10)"
   ]
  },
  {
   "cell_type": "code",
   "execution_count": 28,
   "metadata": {
    "collapsed": false
   },
   "outputs": [
    {
     "name": "stdout",
     "output_type": "stream",
     "text": [
      "[(u'10930', 24.724705882352943), (u'13424', 20.856232939035486), (u'14487', 20.795507358636716), (u'13459', 20.609195402298852), (u'10157', 18.995945945945945), (u'12177', 15.940357852882704), (u'12016', 15.879084967320262), (u'13964', 15.779753761969904), (u'11002', 15.714811407543698), (u'14771', 12.516759209337824)]\n"
     ]
    }
   ],
   "source": [
    "print mean_delays_dest.sortBy(lambda t: t[1], ascending=False).take(10)"
   ]
  }
 ],
 "metadata": {
  "kernelspec": {
   "display_name": "Python 2",
   "language": "python",
   "name": "python2"
  },
  "language_info": {
   "codemirror_mode": {
    "name": "ipython",
    "version": 2
   },
   "file_extension": ".py",
   "mimetype": "text/x-python",
   "name": "python",
   "nbconvert_exporter": "python",
   "pygments_lexer": "ipython2",
   "version": "2.7.9"
  }
 },
 "nbformat": 4,
 "nbformat_minor": 0
}
